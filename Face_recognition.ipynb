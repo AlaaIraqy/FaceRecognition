{
  "nbformat": 4,
  "nbformat_minor": 0,
  "metadata": {
    "colab": {
      "name": "Untitled0.ipynb",
      "provenance": [],
      "collapsed_sections": [
        "Z0lXNSV4EUNo",
        "5Yl4BFpmH8Yg",
        "iPjYf98CvmPU"
      ],
      "toc_visible": true,
      "include_colab_link": true
    },
    "kernelspec": {
      "display_name": "Python 3",
      "name": "python3"
    },
    "language_info": {
      "name": "python"
    }
  },
  "cells": [
    {
      "cell_type": "markdown",
      "metadata": {
        "id": "view-in-github",
        "colab_type": "text"
      },
      "source": [
        "<a href=\"https://colab.research.google.com/github/AlaaIraqy/FaceRecognition/blob/main/Face_recognition.ipynb\" target=\"_parent\"><img src=\"https://colab.research.google.com/assets/colab-badge.svg\" alt=\"Open In Colab\"/></a>"
      ]
    },
    {
      "cell_type": "markdown",
      "metadata": {
        "id": "1aRgZW7_Tpxl"
      },
      "source": [
        ""
      ]
    },
    {
      "cell_type": "code",
      "metadata": {
        "colab": {
          "base_uri": "https://localhost:8080/"
        },
        "id": "FCU5XAEsUZM_",
        "outputId": "c567cc97-af3b-4d3a-807a-014380803146"
      },
      "source": [
        "import os\n",
        "os.chdir('/content')\n",
        "!pip install --upgrade --force-reinstall --no-deps kaggle"
      ],
      "execution_count": null,
      "outputs": [
        {
          "output_type": "stream",
          "text": [
            "Collecting kaggle\n",
            "\u001b[?25l  Downloading https://files.pythonhosted.org/packages/3a/e7/3bac01547d2ed3d308ac92a0878fbdb0ed0f3d41fb1906c319ccbba1bfbc/kaggle-1.5.12.tar.gz (58kB)\n",
            "\r\u001b[K     |█████▋                          | 10kB 12.4MB/s eta 0:00:01\r\u001b[K     |███████████▏                    | 20kB 17.6MB/s eta 0:00:01\r\u001b[K     |████████████████▊               | 30kB 22.3MB/s eta 0:00:01\r\u001b[K     |██████████████████████▎         | 40kB 26.2MB/s eta 0:00:01\r\u001b[K     |███████████████████████████▉    | 51kB 28.4MB/s eta 0:00:01\r\u001b[K     |████████████████████████████████| 61kB 6.3MB/s \n",
            "\u001b[?25hBuilding wheels for collected packages: kaggle\n",
            "  Building wheel for kaggle (setup.py) ... \u001b[?25l\u001b[?25hdone\n",
            "  Created wheel for kaggle: filename=kaggle-1.5.12-cp37-none-any.whl size=73053 sha256=cc4030dc040b16fed3cb6b602cba2c4bfc8bdf8acc7812a625074141d815bdd5\n",
            "  Stored in directory: /root/.cache/pip/wheels/a1/6a/26/d30b7499ff85a4a4593377a87ecf55f7d08af42f0de9b60303\n",
            "Successfully built kaggle\n",
            "Installing collected packages: kaggle\n",
            "  Found existing installation: kaggle 1.5.12\n",
            "    Uninstalling kaggle-1.5.12:\n",
            "      Successfully uninstalled kaggle-1.5.12\n",
            "Successfully installed kaggle-1.5.12\n"
          ],
          "name": "stdout"
        }
      ]
    },
    {
      "cell_type": "code",
      "metadata": {
        "id": "Y3IjFnQXUkhF",
        "colab": {
          "resources": {
            "http://localhost:8080/nbextensions/google.colab/files.js": {
              "data": "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",
              "ok": true,
              "headers": [
                [
                  "content-type",
                  "application/javascript"
                ]
              ],
              "status": 200,
              "status_text": ""
            }
          },
          "base_uri": "https://localhost:8080/",
          "height": 90
        },
        "outputId": "13e31d0f-de66-4e34-f4d4-372670271780"
      },
      "source": [
        "from google.colab import files\n",
        "files.upload()"
      ],
      "execution_count": null,
      "outputs": [
        {
          "output_type": "display_data",
          "data": {
            "text/html": [
              "\n",
              "     <input type=\"file\" id=\"files-77fd0e0a-67b4-459c-ad4e-bf07c57026c4\" name=\"files[]\" multiple disabled\n",
              "        style=\"border:none\" />\n",
              "     <output id=\"result-77fd0e0a-67b4-459c-ad4e-bf07c57026c4\">\n",
              "      Upload widget is only available when the cell has been executed in the\n",
              "      current browser session. Please rerun this cell to enable.\n",
              "      </output>\n",
              "      <script src=\"/nbextensions/google.colab/files.js\"></script> "
            ],
            "text/plain": [
              "<IPython.core.display.HTML object>"
            ]
          },
          "metadata": {
            "tags": []
          }
        },
        {
          "output_type": "stream",
          "text": [
            "Saving kaggle.json to kaggle.json\n"
          ],
          "name": "stdout"
        },
        {
          "output_type": "execute_result",
          "data": {
            "text/plain": [
              "{'kaggle.json': b'{\"username\":\"mohamed99ayman\",\"key\":\"ae3067e356d2194f37db76ae8c3d45d4\"}'}"
            ]
          },
          "metadata": {
            "tags": []
          },
          "execution_count": 5
        }
      ]
    },
    {
      "cell_type": "code",
      "metadata": {
        "id": "p-ynfHFYVUFY"
      },
      "source": [
        "! mkdir ~/.kaggle\n",
        "! cp kaggle.json ~/.kaggle/"
      ],
      "execution_count": null,
      "outputs": []
    },
    {
      "cell_type": "code",
      "metadata": {
        "id": "uvQfpWE1VdpF"
      },
      "source": [
        "! chmod 600 ~/.kaggle/kaggle.json"
      ],
      "execution_count": null,
      "outputs": []
    },
    {
      "cell_type": "code",
      "metadata": {
        "id": "zvj3_LtdVhVF",
        "colab": {
          "base_uri": "https://localhost:8080/"
        },
        "outputId": "0d191dff-2ae6-420a-bec2-b303d2a3e9f6"
      },
      "source": [
        "! kaggle datasets list"
      ],
      "execution_count": null,
      "outputs": [
        {
          "output_type": "stream",
          "text": [
            "ref                                                         title                                              size  lastUpdated          downloadCount  voteCount  usabilityRating  \n",
            "----------------------------------------------------------  ------------------------------------------------  -----  -------------------  -------------  ---------  ---------------  \n",
            "gpreda/reddit-vaccine-myths                                 Reddit Vaccine Myths                              227KB  2021-05-03 13:54:12           4139        399  1.0              \n",
            "crowww/a-large-scale-fish-dataset                           A Large Scale Fish Dataset                          3GB  2021-04-28 17:03:01           2378        231  0.9375           \n",
            "promptcloud/careerbuilder-job-listing-2020                  Careerbuilder Job Listing 2020                     42MB  2021-03-05 06:59:52            533         24  1.0              \n",
            "mathurinache/twitter-edge-nodes                             Twitter Edge Nodes                                342MB  2021-03-08 06:43:04            248         27  1.0              \n",
            "dhruvildave/wikibooks-dataset                               Wikibooks Dataset                                   1GB  2021-02-18 10:08:27           1470        135  1.0              \n",
            "imsparsh/musicnet-dataset                                   MusicNet Dataset                                   22GB  2021-02-18 14:12:19            837         73  1.0              \n",
            "alsgroup/end-als                                            End ALS Kaggle Challenge                           12GB  2021-04-08 12:16:37            569         84  0.9375           \n",
            "nickuzmenkov/nih-chest-xrays-tfrecords                      NIH Chest X-rays TFRecords                         11GB  2021-03-09 04:49:23            382         20  0.9411765        \n",
            "simiotic/github-code-snippets                               GitHub Code Snippets                                7GB  2021-03-03 11:34:39             93         33  1.0              \n",
            "fatiimaezzahra/famous-iconic-women                          Famous Iconic Women                               838MB  2021-02-28 14:56:00            484         44  0.75             \n",
            "coloradokb/dandelionimages                                  DandelionImages                                     4GB  2021-02-19 20:03:47            212         14  0.75             \n",
            "mathurinache/the-lj-speech-dataset                          The LJ Speech Dataset                               3GB  2021-02-15 09:19:54            111         28  1.0              \n",
            "stuartjames/lights                                          LightS: Light Specularity Dataset                  18GB  2021-02-18 14:32:26             39         16  0.6875           \n",
            "landrykezebou/lvzhdr-tone-mapping-benchmark-dataset-tmonet  LVZ-HDR Tone Mapping Benchmark Dataset (TMO-Net)   24GB  2021-03-01 05:03:40             57         13  0.6875           \n",
            "imsparsh/accentdb-core-extended                             AccentDB - Core & Extended                          6GB  2021-02-17 14:22:54             49         17  0.8125           \n",
            "nickuzmenkov/ranzcr-clip-kfold-tfrecords                    RANZCR CLiP KFold TFRecords                         2GB  2021-02-21 13:29:51             64         14  0.875            \n",
            "datasnaek/youtube-new                                       Trending YouTube Video Statistics                 201MB  2019-06-03 00:56:47         138143       3919  0.7941176        \n",
            "zynicide/wine-reviews                                       Wine Reviews                                       51MB  2017-11-27 17:08:04         135223       3039  0.7941176        \n",
            "datasnaek/chess                                             Chess Game Dataset (Lichess)                        3MB  2017-09-04 03:09:09          17442        695  0.8235294        \n",
            "rtatman/188-million-us-wildfires                            1.88 Million US Wildfires                         168MB  2020-05-12 21:03:49          15277        766  0.8235294        \n"
          ],
          "name": "stdout"
        }
      ]
    },
    {
      "cell_type": "code",
      "metadata": {
        "id": "CrZAcyhjWABv",
        "colab": {
          "base_uri": "https://localhost:8080/"
        },
        "outputId": "10c63faa-a960-4668-f040-9d88c01d4f0b"
      },
      "source": [
        "import os\n",
        "os.chdir('/content')\n",
        "! kaggle datasets download kasikrit/att-database-of-faces"
      ],
      "execution_count": null,
      "outputs": [
        {
          "output_type": "stream",
          "text": [
            "Downloading att-database-of-faces.zip to /content\n",
            "\r  0% 0.00/3.61M [00:00<?, ?B/s]\n",
            "\r100% 3.61M/3.61M [00:00<00:00, 217MB/s]\n"
          ],
          "name": "stdout"
        }
      ]
    },
    {
      "cell_type": "code",
      "metadata": {
        "id": "yVF-JILHWaKd",
        "colab": {
          "base_uri": "https://localhost:8080/"
        },
        "outputId": "c0fd1797-e789-424f-bb91-3ed68d5fd9b1"
      },
      "source": [
        " os.chdir('/content')\n",
        " ! mkdir ORL\n",
        " ! unzip att-database-of-faces.zip -d ORL\n"
      ],
      "execution_count": null,
      "outputs": [
        {
          "output_type": "stream",
          "text": [
            "Archive:  att-database-of-faces.zip\n",
            "  inflating: ORL/README              \n",
            "  inflating: ORL/s1/1.pgm            \n",
            "  inflating: ORL/s1/10.pgm           \n",
            "  inflating: ORL/s1/2.pgm            \n",
            "  inflating: ORL/s1/3.pgm            \n",
            "  inflating: ORL/s1/4.pgm            \n",
            "  inflating: ORL/s1/5.pgm            \n",
            "  inflating: ORL/s1/6.pgm            \n",
            "  inflating: ORL/s1/7.pgm            \n",
            "  inflating: ORL/s1/8.pgm            \n",
            "  inflating: ORL/s1/9.pgm            \n",
            "  inflating: ORL/s10/1.pgm           \n",
            "  inflating: ORL/s10/10.pgm          \n",
            "  inflating: ORL/s10/2.pgm           \n",
            "  inflating: ORL/s10/3.pgm           \n",
            "  inflating: ORL/s10/4.pgm           \n",
            "  inflating: ORL/s10/5.pgm           \n",
            "  inflating: ORL/s10/6.pgm           \n",
            "  inflating: ORL/s10/7.pgm           \n",
            "  inflating: ORL/s10/8.pgm           \n",
            "  inflating: ORL/s10/9.pgm           \n",
            "  inflating: ORL/s11/1.pgm           \n",
            "  inflating: ORL/s11/10.pgm          \n",
            "  inflating: ORL/s11/2.pgm           \n",
            "  inflating: ORL/s11/3.pgm           \n",
            "  inflating: ORL/s11/4.pgm           \n",
            "  inflating: ORL/s11/5.pgm           \n",
            "  inflating: ORL/s11/6.pgm           \n",
            "  inflating: ORL/s11/7.pgm           \n",
            "  inflating: ORL/s11/8.pgm           \n",
            "  inflating: ORL/s11/9.pgm           \n",
            "  inflating: ORL/s12/1.pgm           \n",
            "  inflating: ORL/s12/10.pgm          \n",
            "  inflating: ORL/s12/2.pgm           \n",
            "  inflating: ORL/s12/3.pgm           \n",
            "  inflating: ORL/s12/4.pgm           \n",
            "  inflating: ORL/s12/5.pgm           \n",
            "  inflating: ORL/s12/6.pgm           \n",
            "  inflating: ORL/s12/7.pgm           \n",
            "  inflating: ORL/s12/8.pgm           \n",
            "  inflating: ORL/s12/9.pgm           \n",
            "  inflating: ORL/s13/1.pgm           \n",
            "  inflating: ORL/s13/10.pgm          \n",
            "  inflating: ORL/s13/2.pgm           \n",
            "  inflating: ORL/s13/3.pgm           \n",
            "  inflating: ORL/s13/4.pgm           \n",
            "  inflating: ORL/s13/5.pgm           \n",
            "  inflating: ORL/s13/6.pgm           \n",
            "  inflating: ORL/s13/7.pgm           \n",
            "  inflating: ORL/s13/8.pgm           \n",
            "  inflating: ORL/s13/9.pgm           \n",
            "  inflating: ORL/s14/1.pgm           \n",
            "  inflating: ORL/s14/10.pgm          \n",
            "  inflating: ORL/s14/2.pgm           \n",
            "  inflating: ORL/s14/3.pgm           \n",
            "  inflating: ORL/s14/4.pgm           \n",
            "  inflating: ORL/s14/5.pgm           \n",
            "  inflating: ORL/s14/6.pgm           \n",
            "  inflating: ORL/s14/7.pgm           \n",
            "  inflating: ORL/s14/8.pgm           \n",
            "  inflating: ORL/s14/9.pgm           \n",
            "  inflating: ORL/s15/1.pgm           \n",
            "  inflating: ORL/s15/10.pgm          \n",
            "  inflating: ORL/s15/2.pgm           \n",
            "  inflating: ORL/s15/3.pgm           \n",
            "  inflating: ORL/s15/4.pgm           \n",
            "  inflating: ORL/s15/5.pgm           \n",
            "  inflating: ORL/s15/6.pgm           \n",
            "  inflating: ORL/s15/7.pgm           \n",
            "  inflating: ORL/s15/8.pgm           \n",
            "  inflating: ORL/s15/9.pgm           \n",
            "  inflating: ORL/s16/1.pgm           \n",
            "  inflating: ORL/s16/10.pgm          \n",
            "  inflating: ORL/s16/2.pgm           \n",
            "  inflating: ORL/s16/3.pgm           \n",
            "  inflating: ORL/s16/4.pgm           \n",
            "  inflating: ORL/s16/5.pgm           \n",
            "  inflating: ORL/s16/6.pgm           \n",
            "  inflating: ORL/s16/7.pgm           \n",
            "  inflating: ORL/s16/8.pgm           \n",
            "  inflating: ORL/s16/9.pgm           \n",
            "  inflating: ORL/s17/1.pgm           \n",
            "  inflating: ORL/s17/10.pgm          \n",
            "  inflating: ORL/s17/2.pgm           \n",
            "  inflating: ORL/s17/3.pgm           \n",
            "  inflating: ORL/s17/4.pgm           \n",
            "  inflating: ORL/s17/5.pgm           \n",
            "  inflating: ORL/s17/6.pgm           \n",
            "  inflating: ORL/s17/7.pgm           \n",
            "  inflating: ORL/s17/8.pgm           \n",
            "  inflating: ORL/s17/9.pgm           \n",
            "  inflating: ORL/s18/1.pgm           \n",
            "  inflating: ORL/s18/10.pgm          \n",
            "  inflating: ORL/s18/2.pgm           \n",
            "  inflating: ORL/s18/3.pgm           \n",
            "  inflating: ORL/s18/4.pgm           \n",
            "  inflating: ORL/s18/5.pgm           \n",
            "  inflating: ORL/s18/6.pgm           \n",
            "  inflating: ORL/s18/7.pgm           \n",
            "  inflating: ORL/s18/8.pgm           \n",
            "  inflating: ORL/s18/9.pgm           \n",
            "  inflating: ORL/s19/1.pgm           \n",
            "  inflating: ORL/s19/10.pgm          \n",
            "  inflating: ORL/s19/2.pgm           \n",
            "  inflating: ORL/s19/3.pgm           \n",
            "  inflating: ORL/s19/4.pgm           \n",
            "  inflating: ORL/s19/5.pgm           \n",
            "  inflating: ORL/s19/6.pgm           \n",
            "  inflating: ORL/s19/7.pgm           \n",
            "  inflating: ORL/s19/8.pgm           \n",
            "  inflating: ORL/s19/9.pgm           \n",
            "  inflating: ORL/s2/1.pgm            \n",
            "  inflating: ORL/s2/10.pgm           \n",
            "  inflating: ORL/s2/2.pgm            \n",
            "  inflating: ORL/s2/3.pgm            \n",
            "  inflating: ORL/s2/4.pgm            \n",
            "  inflating: ORL/s2/5.pgm            \n",
            "  inflating: ORL/s2/6.pgm            \n",
            "  inflating: ORL/s2/7.pgm            \n",
            "  inflating: ORL/s2/8.pgm            \n",
            "  inflating: ORL/s2/9.pgm            \n",
            "  inflating: ORL/s20/1.pgm           \n",
            "  inflating: ORL/s20/10.pgm          \n",
            "  inflating: ORL/s20/2.pgm           \n",
            "  inflating: ORL/s20/3.pgm           \n",
            "  inflating: ORL/s20/4.pgm           \n",
            "  inflating: ORL/s20/5.pgm           \n",
            "  inflating: ORL/s20/6.pgm           \n",
            "  inflating: ORL/s20/7.pgm           \n",
            "  inflating: ORL/s20/8.pgm           \n",
            "  inflating: ORL/s20/9.pgm           \n",
            "  inflating: ORL/s21/1.pgm           \n",
            "  inflating: ORL/s21/10.pgm          \n",
            "  inflating: ORL/s21/2.pgm           \n",
            "  inflating: ORL/s21/3.pgm           \n",
            "  inflating: ORL/s21/4.pgm           \n",
            "  inflating: ORL/s21/5.pgm           \n",
            "  inflating: ORL/s21/6.pgm           \n",
            "  inflating: ORL/s21/7.pgm           \n",
            "  inflating: ORL/s21/8.pgm           \n",
            "  inflating: ORL/s21/9.pgm           \n",
            "  inflating: ORL/s22/1.pgm           \n",
            "  inflating: ORL/s22/10.pgm          \n",
            "  inflating: ORL/s22/2.pgm           \n",
            "  inflating: ORL/s22/3.pgm           \n",
            "  inflating: ORL/s22/4.pgm           \n",
            "  inflating: ORL/s22/5.pgm           \n",
            "  inflating: ORL/s22/6.pgm           \n",
            "  inflating: ORL/s22/7.pgm           \n",
            "  inflating: ORL/s22/8.pgm           \n",
            "  inflating: ORL/s22/9.pgm           \n",
            "  inflating: ORL/s23/1.pgm           \n",
            "  inflating: ORL/s23/10.pgm          \n",
            "  inflating: ORL/s23/2.pgm           \n",
            "  inflating: ORL/s23/3.pgm           \n",
            "  inflating: ORL/s23/4.pgm           \n",
            "  inflating: ORL/s23/5.pgm           \n",
            "  inflating: ORL/s23/6.pgm           \n",
            "  inflating: ORL/s23/7.pgm           \n",
            "  inflating: ORL/s23/8.pgm           \n",
            "  inflating: ORL/s23/9.pgm           \n",
            "  inflating: ORL/s24/1.pgm           \n",
            "  inflating: ORL/s24/10.pgm          \n",
            "  inflating: ORL/s24/2.pgm           \n",
            "  inflating: ORL/s24/3.pgm           \n",
            "  inflating: ORL/s24/4.pgm           \n",
            "  inflating: ORL/s24/5.pgm           \n",
            "  inflating: ORL/s24/6.pgm           \n",
            "  inflating: ORL/s24/7.pgm           \n",
            "  inflating: ORL/s24/8.pgm           \n",
            "  inflating: ORL/s24/9.pgm           \n",
            "  inflating: ORL/s25/1.pgm           \n",
            "  inflating: ORL/s25/10.pgm          \n",
            "  inflating: ORL/s25/2.pgm           \n",
            "  inflating: ORL/s25/3.pgm           \n",
            "  inflating: ORL/s25/4.pgm           \n",
            "  inflating: ORL/s25/5.pgm           \n",
            "  inflating: ORL/s25/6.pgm           \n",
            "  inflating: ORL/s25/7.pgm           \n",
            "  inflating: ORL/s25/8.pgm           \n",
            "  inflating: ORL/s25/9.pgm           \n",
            "  inflating: ORL/s26/1.pgm           \n",
            "  inflating: ORL/s26/10.pgm          \n",
            "  inflating: ORL/s26/2.pgm           \n",
            "  inflating: ORL/s26/3.pgm           \n",
            "  inflating: ORL/s26/4.pgm           \n",
            "  inflating: ORL/s26/5.pgm           \n",
            "  inflating: ORL/s26/6.pgm           \n",
            "  inflating: ORL/s26/7.pgm           \n",
            "  inflating: ORL/s26/8.pgm           \n",
            "  inflating: ORL/s26/9.pgm           \n",
            "  inflating: ORL/s27/1.pgm           \n",
            "  inflating: ORL/s27/10.pgm          \n",
            "  inflating: ORL/s27/2.pgm           \n",
            "  inflating: ORL/s27/3.pgm           \n",
            "  inflating: ORL/s27/4.pgm           \n",
            "  inflating: ORL/s27/5.pgm           \n",
            "  inflating: ORL/s27/6.pgm           \n",
            "  inflating: ORL/s27/7.pgm           \n",
            "  inflating: ORL/s27/8.pgm           \n",
            "  inflating: ORL/s27/9.pgm           \n",
            "  inflating: ORL/s28/1.pgm           \n",
            "  inflating: ORL/s28/10.pgm          \n",
            "  inflating: ORL/s28/2.pgm           \n",
            "  inflating: ORL/s28/3.pgm           \n",
            "  inflating: ORL/s28/4.pgm           \n",
            "  inflating: ORL/s28/5.pgm           \n",
            "  inflating: ORL/s28/6.pgm           \n",
            "  inflating: ORL/s28/7.pgm           \n",
            "  inflating: ORL/s28/8.pgm           \n",
            "  inflating: ORL/s28/9.pgm           \n",
            "  inflating: ORL/s29/1.pgm           \n",
            "  inflating: ORL/s29/10.pgm          \n",
            "  inflating: ORL/s29/2.pgm           \n",
            "  inflating: ORL/s29/3.pgm           \n",
            "  inflating: ORL/s29/4.pgm           \n",
            "  inflating: ORL/s29/5.pgm           \n",
            "  inflating: ORL/s29/6.pgm           \n",
            "  inflating: ORL/s29/7.pgm           \n",
            "  inflating: ORL/s29/8.pgm           \n",
            "  inflating: ORL/s29/9.pgm           \n",
            "  inflating: ORL/s3/1.pgm            \n",
            "  inflating: ORL/s3/10.pgm           \n",
            "  inflating: ORL/s3/2.pgm            \n",
            "  inflating: ORL/s3/3.pgm            \n",
            "  inflating: ORL/s3/4.pgm            \n",
            "  inflating: ORL/s3/5.pgm            \n",
            "  inflating: ORL/s3/6.pgm            \n",
            "  inflating: ORL/s3/7.pgm            \n",
            "  inflating: ORL/s3/8.pgm            \n",
            "  inflating: ORL/s3/9.pgm            \n",
            "  inflating: ORL/s30/1.pgm           \n",
            "  inflating: ORL/s30/10.pgm          \n",
            "  inflating: ORL/s30/2.pgm           \n",
            "  inflating: ORL/s30/3.pgm           \n",
            "  inflating: ORL/s30/4.pgm           \n",
            "  inflating: ORL/s30/5.pgm           \n",
            "  inflating: ORL/s30/6.pgm           \n",
            "  inflating: ORL/s30/7.pgm           \n",
            "  inflating: ORL/s30/8.pgm           \n",
            "  inflating: ORL/s30/9.pgm           \n",
            "  inflating: ORL/s31/1.pgm           \n",
            "  inflating: ORL/s31/10.pgm          \n",
            "  inflating: ORL/s31/2.pgm           \n",
            "  inflating: ORL/s31/3.pgm           \n",
            "  inflating: ORL/s31/4.pgm           \n",
            "  inflating: ORL/s31/5.pgm           \n",
            "  inflating: ORL/s31/6.pgm           \n",
            "  inflating: ORL/s31/7.pgm           \n",
            "  inflating: ORL/s31/8.pgm           \n",
            "  inflating: ORL/s31/9.pgm           \n",
            "  inflating: ORL/s32/1.pgm           \n",
            "  inflating: ORL/s32/10.pgm          \n",
            "  inflating: ORL/s32/2.pgm           \n",
            "  inflating: ORL/s32/3.pgm           \n",
            "  inflating: ORL/s32/4.pgm           \n",
            "  inflating: ORL/s32/5.pgm           \n",
            "  inflating: ORL/s32/6.pgm           \n",
            "  inflating: ORL/s32/7.pgm           \n",
            "  inflating: ORL/s32/8.pgm           \n",
            "  inflating: ORL/s32/9.pgm           \n",
            "  inflating: ORL/s33/1.pgm           \n",
            "  inflating: ORL/s33/10.pgm          \n",
            "  inflating: ORL/s33/2.pgm           \n",
            "  inflating: ORL/s33/3.pgm           \n",
            "  inflating: ORL/s33/4.pgm           \n",
            "  inflating: ORL/s33/5.pgm           \n",
            "  inflating: ORL/s33/6.pgm           \n",
            "  inflating: ORL/s33/7.pgm           \n",
            "  inflating: ORL/s33/8.pgm           \n",
            "  inflating: ORL/s33/9.pgm           \n",
            "  inflating: ORL/s34/1.pgm           \n",
            "  inflating: ORL/s34/10.pgm          \n",
            "  inflating: ORL/s34/2.pgm           \n",
            "  inflating: ORL/s34/3.pgm           \n",
            "  inflating: ORL/s34/4.pgm           \n",
            "  inflating: ORL/s34/5.pgm           \n",
            "  inflating: ORL/s34/6.pgm           \n",
            "  inflating: ORL/s34/7.pgm           \n",
            "  inflating: ORL/s34/8.pgm           \n",
            "  inflating: ORL/s34/9.pgm           \n",
            "  inflating: ORL/s35/1.pgm           \n",
            "  inflating: ORL/s35/10.pgm          \n",
            "  inflating: ORL/s35/2.pgm           \n",
            "  inflating: ORL/s35/3.pgm           \n",
            "  inflating: ORL/s35/4.pgm           \n",
            "  inflating: ORL/s35/5.pgm           \n",
            "  inflating: ORL/s35/6.pgm           \n",
            "  inflating: ORL/s35/7.pgm           \n",
            "  inflating: ORL/s35/8.pgm           \n",
            "  inflating: ORL/s35/9.pgm           \n",
            "  inflating: ORL/s36/1.pgm           \n",
            "  inflating: ORL/s36/10.pgm          \n",
            "  inflating: ORL/s36/2.pgm           \n",
            "  inflating: ORL/s36/3.pgm           \n",
            "  inflating: ORL/s36/4.pgm           \n",
            "  inflating: ORL/s36/5.pgm           \n",
            "  inflating: ORL/s36/6.pgm           \n",
            "  inflating: ORL/s36/7.pgm           \n",
            "  inflating: ORL/s36/8.pgm           \n",
            "  inflating: ORL/s36/9.pgm           \n",
            "  inflating: ORL/s37/1.pgm           \n",
            "  inflating: ORL/s37/10.pgm          \n",
            "  inflating: ORL/s37/2.pgm           \n",
            "  inflating: ORL/s37/3.pgm           \n",
            "  inflating: ORL/s37/4.pgm           \n",
            "  inflating: ORL/s37/5.pgm           \n",
            "  inflating: ORL/s37/6.pgm           \n",
            "  inflating: ORL/s37/7.pgm           \n",
            "  inflating: ORL/s37/8.pgm           \n",
            "  inflating: ORL/s37/9.pgm           \n",
            "  inflating: ORL/s38/1.pgm           \n",
            "  inflating: ORL/s38/10.pgm          \n",
            "  inflating: ORL/s38/2.pgm           \n",
            "  inflating: ORL/s38/3.pgm           \n",
            "  inflating: ORL/s38/4.pgm           \n",
            "  inflating: ORL/s38/5.pgm           \n",
            "  inflating: ORL/s38/6.pgm           \n",
            "  inflating: ORL/s38/7.pgm           \n",
            "  inflating: ORL/s38/8.pgm           \n",
            "  inflating: ORL/s38/9.pgm           \n",
            "  inflating: ORL/s39/1.pgm           \n",
            "  inflating: ORL/s39/10.pgm          \n",
            "  inflating: ORL/s39/2.pgm           \n",
            "  inflating: ORL/s39/3.pgm           \n",
            "  inflating: ORL/s39/4.pgm           \n",
            "  inflating: ORL/s39/5.pgm           \n",
            "  inflating: ORL/s39/6.pgm           \n",
            "  inflating: ORL/s39/7.pgm           \n",
            "  inflating: ORL/s39/8.pgm           \n",
            "  inflating: ORL/s39/9.pgm           \n",
            "  inflating: ORL/s4/1.pgm            \n",
            "  inflating: ORL/s4/10.pgm           \n",
            "  inflating: ORL/s4/2.pgm            \n",
            "  inflating: ORL/s4/3.pgm            \n",
            "  inflating: ORL/s4/4.pgm            \n",
            "  inflating: ORL/s4/5.pgm            \n",
            "  inflating: ORL/s4/6.pgm            \n",
            "  inflating: ORL/s4/7.pgm            \n",
            "  inflating: ORL/s4/8.pgm            \n",
            "  inflating: ORL/s4/9.pgm            \n",
            "  inflating: ORL/s40/1.pgm           \n",
            "  inflating: ORL/s40/10.pgm          \n",
            "  inflating: ORL/s40/2.pgm           \n",
            "  inflating: ORL/s40/3.pgm           \n",
            "  inflating: ORL/s40/4.pgm           \n",
            "  inflating: ORL/s40/5.pgm           \n",
            "  inflating: ORL/s40/6.pgm           \n",
            "  inflating: ORL/s40/7.pgm           \n",
            "  inflating: ORL/s40/8.pgm           \n",
            "  inflating: ORL/s40/9.pgm           \n",
            "  inflating: ORL/s5/1.pgm            \n",
            "  inflating: ORL/s5/10.pgm           \n",
            "  inflating: ORL/s5/2.pgm            \n",
            "  inflating: ORL/s5/3.pgm            \n",
            "  inflating: ORL/s5/4.pgm            \n",
            "  inflating: ORL/s5/5.pgm            \n",
            "  inflating: ORL/s5/6.pgm            \n",
            "  inflating: ORL/s5/7.pgm            \n",
            "  inflating: ORL/s5/8.pgm            \n",
            "  inflating: ORL/s5/9.pgm            \n",
            "  inflating: ORL/s6/1.pgm            \n",
            "  inflating: ORL/s6/10.pgm           \n",
            "  inflating: ORL/s6/2.pgm            \n",
            "  inflating: ORL/s6/3.pgm            \n",
            "  inflating: ORL/s6/4.pgm            \n",
            "  inflating: ORL/s6/5.pgm            \n",
            "  inflating: ORL/s6/6.pgm            \n",
            "  inflating: ORL/s6/7.pgm            \n",
            "  inflating: ORL/s6/8.pgm            \n",
            "  inflating: ORL/s6/9.pgm            \n",
            "  inflating: ORL/s7/1.pgm            \n",
            "  inflating: ORL/s7/10.pgm           \n",
            "  inflating: ORL/s7/2.pgm            \n",
            "  inflating: ORL/s7/3.pgm            \n",
            "  inflating: ORL/s7/4.pgm            \n",
            "  inflating: ORL/s7/5.pgm            \n",
            "  inflating: ORL/s7/6.pgm            \n",
            "  inflating: ORL/s7/7.pgm            \n",
            "  inflating: ORL/s7/8.pgm            \n",
            "  inflating: ORL/s7/9.pgm            \n",
            "  inflating: ORL/s8/1.pgm            \n",
            "  inflating: ORL/s8/10.pgm           \n",
            "  inflating: ORL/s8/2.pgm            \n",
            "  inflating: ORL/s8/3.pgm            \n",
            "  inflating: ORL/s8/4.pgm            \n",
            "  inflating: ORL/s8/5.pgm            \n",
            "  inflating: ORL/s8/6.pgm            \n",
            "  inflating: ORL/s8/7.pgm            \n",
            "  inflating: ORL/s8/8.pgm            \n",
            "  inflating: ORL/s8/9.pgm            \n",
            "  inflating: ORL/s9/1.pgm            \n",
            "  inflating: ORL/s9/10.pgm           \n",
            "  inflating: ORL/s9/2.pgm            \n",
            "  inflating: ORL/s9/3.pgm            \n",
            "  inflating: ORL/s9/4.pgm            \n",
            "  inflating: ORL/s9/5.pgm            \n",
            "  inflating: ORL/s9/6.pgm            \n",
            "  inflating: ORL/s9/7.pgm            \n",
            "  inflating: ORL/s9/8.pgm            \n",
            "  inflating: ORL/s9/9.pgm            \n"
          ],
          "name": "stdout"
        }
      ]
    },
    {
      "cell_type": "code",
      "metadata": {
        "id": "AJIotN56Wwh_"
      },
      "source": [
        "import os\n",
        "from skimage.io import imread\n",
        "import numpy as np\n",
        "os.chdir('/content/ORL')\n",
        "directory = os.getcwd()\n",
        "files=os.listdir(directory)\n",
        "files.remove('README')\n",
        "# files.remove('.ipynb_checkpoints')\n",
        "# files.remove('kaggle.json')\n",
        "files = sorted(files, key=lambda x: int(x[1:]))\n",
        "Dataset=[]\n",
        "y=[]\n",
        " \n",
        "Y=0\n",
        " \n",
        "for filename in files:\n",
        "    Y+=1\n",
        "    each_file=os.listdir(filename)\n",
        "    each_file.sort()\n",
        "    each_file = sorted(each_file, key=lambda x: int(x[:-4]))\n",
        "    for image in each_file:\n",
        "      img = imread(os.getcwd()+'/'+filename+'/'+image)\n",
        "      Dataset.append(img.flatten())\n",
        "      y.append(Y)\n",
        " \n",
        "y=np.array(y)\n",
        "Dataset=np.array(Dataset)"
      ],
      "execution_count": null,
      "outputs": []
    },
    {
      "cell_type": "markdown",
      "metadata": {
        "id": "KGgJ_4QKCoAb"
      },
      "source": [
        "**Splitting the Dataset**"
      ]
    },
    {
      "cell_type": "code",
      "metadata": {
        "id": "o9E1Q7osCqxf"
      },
      "source": [
        "train_X=Dataset[::2]\n",
        "train_y=y[::2]\n",
        "test_X=Dataset[1::2]\n",
        "test_y=y[1::2]"
      ],
      "execution_count": null,
      "outputs": []
    },
    {
      "cell_type": "markdown",
      "metadata": {
        "id": "Z0lXNSV4EUNo"
      },
      "source": [
        "# **Classification using PCA**"
      ]
    },
    {
      "cell_type": "code",
      "metadata": {
        "colab": {
          "base_uri": "https://localhost:8080/"
        },
        "id": "2XTOjwzREWTB",
        "outputId": "db213699-75b5-4a68-8d73-260fe14a36c1"
      },
      "source": [
        "means=np.mean(train_X,axis=0)\n",
        "print(means)\n",
        "cov=np.cov(train_X.T)\n",
        "print(cov)\n",
        "eigenVal,eigenVec=np.linalg.eigh(cov.T)\n",
        "\n"
      ],
      "execution_count": null,
      "outputs": [
        {
          "output_type": "stream",
          "text": [
            "[86.115 86.265 86.685 ... 76.5   77.395 77.085]\n",
            "[[1247.75052764 1243.70806533 1226.58917085 ...  -70.15829146\n",
            "  -100.25670854  -44.10530151]\n",
            " [1243.70806533 1256.52741206 1233.22459799 ...  -81.94221106\n",
            "  -111.05494975  -55.50002513]\n",
            " [1226.58917085 1233.22459799 1228.28721106 ...  -79.4798995\n",
            "  -114.63374372  -67.99319095]\n",
            " ...\n",
            " [ -70.15829146  -81.94221106  -79.4798995  ... 1903.51758794\n",
            "  1874.42964824 1690.99748744]\n",
            " [-100.25670854 -111.05494975 -114.63374372 ... 1874.42964824\n",
            "  1980.13967337 1818.19238693]\n",
            " [ -44.10530151  -55.50002513  -67.99319095 ... 1690.99748744\n",
            "  1818.19238693 1898.2289196 ]]\n"
          ],
          "name": "stdout"
        }
      ]
    },
    {
      "cell_type": "code",
      "metadata": {
        "colab": {
          "base_uri": "https://localhost:8080/"
        },
        "id": "DrAM-gJ_xPI1",
        "outputId": "3c37193c-239a-4a04-faae-44af3611c894"
      },
      "source": [
        "#sort eigenValues and eigenvector from higher to lower\n",
        "idx = eigenVal.argsort()[::-1]\n",
        "eigenVal = eigenVal[idx]\n",
        "eigenVec = eigenVec[:,idx]\n",
        "print(eigenVal)\n"
      ],
      "execution_count": null,
      "outputs": [
        {
          "output_type": "stream",
          "text": [
            "[ 2.90790760e+06  2.02738729e+06  1.15401195e+06 ... -1.19011138e-09\n",
            " -1.56761214e-09 -1.87864987e-09]\n"
          ],
          "name": "stdout"
        }
      ]
    },
    {
      "cell_type": "code",
      "metadata": {
        "colab": {
          "base_uri": "https://localhost:8080/"
        },
        "id": "xl-0AdtR1ZEm",
        "outputId": "05e4eae1-09d0-4fa4-bd0e-551b4ca5b067"
      },
      "source": [
        "#calcaluting r for each alpha \n",
        "alpha_arr=np.array([0.8,0.85,0.9,0.95])\n",
        "r_peralpha=[]\n",
        "for alpha in alpha_arr:\n",
        "  r=0\n",
        "  while(np.sum(eigenVal[0:r])/np.sum(eigenVal)-alpha<=1e-6):\n",
        "    r+=1\n",
        "  r_peralpha.append(r)\n",
        "print(r_peralpha)\n",
        "\n",
        "\n",
        "\n"
      ],
      "execution_count": null,
      "outputs": [
        {
          "output_type": "stream",
          "text": [
            "[36, 51, 76, 115]\n"
          ],
          "name": "stdout"
        }
      ]
    },
    {
      "cell_type": "code",
      "metadata": {
        "colab": {
          "base_uri": "https://localhost:8080/"
        },
        "id": "1LC_Psdi1k5X",
        "outputId": "fb593173-5854-4bc9-aa10-cbd0c3758c66"
      },
      "source": [
        "#calculating projected data for each alpha\n",
        "from sklearn.neighbors import KNeighborsClassifier\n",
        "accuracy=[]\n",
        "neighbors=[1,3,5,7]\n",
        "for r in r_peralpha:\n",
        "  projected_train=np.dot(train_X,eigenVec[:,0:r])\n",
        "  projected_test=np.dot(test_X,eigenVec[:,0:r])\n",
        "  print()\n",
        "  for neighbor_num in neighbors: \n",
        "    neigh = KNeighborsClassifier(n_neighbors=neighbor_num,weights = 'distance')\n",
        "    neigh.fit(projected_train,train_y)\n",
        "    accuracy.append(neigh.score(projected_test,test_y))\n",
        "\n",
        "print(accuracy)\n",
        "    \n",
        "\n",
        "\n"
      ],
      "execution_count": null,
      "outputs": [
        {
          "output_type": "stream",
          "text": [
            "\n",
            "\n",
            "\n",
            "\n",
            "[0.95, 0.93, 0.93, 0.91, 0.95, 0.93, 0.915, 0.875, 0.94, 0.93, 0.905, 0.875, 0.94, 0.92, 0.895, 0.855]\n"
          ],
          "name": "stdout"
        }
      ]
    },
    {
      "cell_type": "code",
      "metadata": {
        "colab": {
          "base_uri": "https://localhost:8080/",
          "height": 297
        },
        "id": "zlGoRxHA8mR4",
        "outputId": "12fa3011-1021-449f-c5ff-e6541aba5f1d"
      },
      "source": [
        "import matplotlib.pyplot as plt\n",
        "plt_alpha=[0.8,0.8,0.8,0.8,0.85,0.85,0.85,0.85,0.9,0.9,0.9,0.9,0.95,0.95,0.95,0.95]\n",
        "plt.xlabel(\"Alpha\")\n",
        "plt.ylabel(\"Accuracy\")\n",
        "plt.title(\"Alpha with accuracy graph\",fontsize=15)\n",
        "plt.scatter(plt_alpha,accuracy)\n",
        "for i in range(len(accuracy)):\n",
        "    label=(\"(K={})\").format(neighbors[int(i/4)])\n",
        "    plt.text(plt_alpha[i], accuracy[i],label)\n",
        "\n",
        "plt.show()"
      ],
      "execution_count": null,
      "outputs": [
        {
          "output_type": "display_data",
          "data": {
            "image/png": "[encoded data removed]",
            "text/plain": [
              "<Figure size 432x288 with 1 Axes>"
            ]
          },
          "metadata": {
            "tags": []
          }
        }
      ]
    },
    {
      "cell_type": "markdown",
      "metadata": {
        "id": "j9VuOBP9eXte"
      },
      "source": [
        ""
      ]
    },
    {
      "cell_type": "markdown",
      "metadata": {
        "id": "5Yl4BFpmH8Yg"
      },
      "source": [
        "#LDA"
      ]
    },
    {
      "cell_type": "code",
      "metadata": {
        "colab": {
          "base_uri": "https://localhost:8080/"
        },
        "id": "TUdLaLlLH98f",
        "outputId": "1e7f5c23-4f05-4f15-b873-bdc0a799b89f"
      },
      "source": [
        "D = np.array(train_X)\n",
        "# for class_number in range(40):\n",
        "#     # current_class = []\n",
        "#     for img in range(5):\n",
        "#         D.append(train_X[class_number*5 + img])\n",
        "#     # D.append(current_class)\n",
        "\n",
        "print('D', np.shape(D))"
      ],
      "execution_count": null,
      "outputs": [
        {
          "output_type": "stream",
          "text": [
            "D (200, 10304)\n"
          ],
          "name": "stdout"
        }
      ]
    },
    {
      "cell_type": "code",
      "metadata": {
        "colab": {
          "base_uri": "https://localhost:8080/"
        },
        "id": "muCwtZl9NLod",
        "outputId": "48fd0509-841a-47f1-c04e-f28eb7c0db66"
      },
      "source": [
        "means = []\n",
        "for current_class in range(40):\n",
        "    class_range = 5*current_class\n",
        "    means.append(np.mean(D[class_range:class_range+5], axis=0))\n",
        "means = np.array(means)\n",
        "print('Means', np.shape(means))\n",
        "overall_mean = np.array([np.mean(train_X, axis=0)])\n",
        "print('Overall mean', np.shape(overall_mean))"
      ],
      "execution_count": null,
      "outputs": [
        {
          "output_type": "stream",
          "text": [
            "Means (40, 10304)\n",
            "Overall mean (1, 10304)\n"
          ],
          "name": "stdout"
        }
      ]
    },
    {
      "cell_type": "code",
      "metadata": {
        "colab": {
          "base_uri": "https://localhost:8080/"
        },
        "id": "MZRRQMoANPcO",
        "outputId": "44a57108-15de-4231-dab5-eeaa01e13c7b"
      },
      "source": [
        "nk = 5\n",
        "Sb = np.zeros((10304, 10304))\n",
        "for mu in means:\n",
        "    sub = mu - overall_mean\n",
        "    Sb += nk*(np.dot(sub.T, sub))\n",
        "print('Sb', np.shape(Sb))"
      ],
      "execution_count": null,
      "outputs": [
        {
          "output_type": "stream",
          "text": [
            "Sb (10304, 10304)\n"
          ],
          "name": "stdout"
        }
      ]
    },
    {
      "cell_type": "code",
      "metadata": {
        "id": "3DPsldPYOs5L",
        "colab": {
          "base_uri": "https://localhost:8080/"
        },
        "outputId": "9f8d10ee-b1ff-4da5-c036-b8910b069949"
      },
      "source": [
        "Z = []\n",
        "for mu, current_class in zip(means, range(40)):\n",
        "    class_range = current_class*5\n",
        "    current_z = D[class_range:class_range+5] - np.ones((5,1))*mu\n",
        "    Z.append(current_z)\n",
        "Z = np.array(Z)\n",
        "print(Z)"
      ],
      "execution_count": null,
      "outputs": [
        {
          "output_type": "stream",
          "text": [
            "[[[  1.2  -2.4  -8.8 ...   9.4   8.2   7.4]\n",
            "  [ -7.8  -7.4  -0.8 ...  -8.6 -11.8  -9.6]\n",
            "  [ 17.2  24.6  26.2 ...  -2.6  -0.8   0.4]\n",
            "  [ -5.8  -4.4  -6.8 ...  -2.6  -0.8  -0.6]\n",
            "  [ -4.8 -10.4  -9.8 ...   4.4   5.2   2.4]]\n",
            "\n",
            " [[ -1.2   0.2   1.  ...  46.6  47.2  45.8]\n",
            "  [ -6.2   1.2  -1.  ... -71.4 -72.8 -65.2]\n",
            "  [ -1.2  -3.8   0.  ... -72.4 -71.8 -68.2]\n",
            "  [  1.8  -0.8   0.  ...  40.6  42.2  43.8]\n",
            "  [  6.8   3.2   0.  ...  56.6  55.2  43.8]]\n",
            "\n",
            " [[ -0.6  -2.   -0.4 ...  -3.2 -11.6  -4. ]\n",
            "  [ -2.6  -1.   -2.4 ...  -1.2   0.4  -2. ]\n",
            "  [ -2.6  -3.   -0.4 ...  -5.2  -3.6  -4. ]\n",
            "  [  5.4   4.    3.6 ...   4.8   5.4   1. ]\n",
            "  [  0.4   2.   -0.4 ...   4.8   9.4   9. ]]\n",
            "\n",
            " ...\n",
            "\n",
            " [[  2.8   2.8   6.6 ...  -1.    8.6   7.2]\n",
            "  [ -3.2  -0.2  -2.4 ... -17.   -5.4  -7.8]\n",
            "  [ -1.2  -0.2  -2.4 ...  11.   -6.4 -12.8]\n",
            "  [ -0.2  -5.2  -3.4 ...   4.    2.6   6.2]\n",
            "  [  1.8   2.8   1.6 ...   3.    0.6   7.2]]\n",
            "\n",
            " [[ -1.6  -1.2   0.2 ...   9.   14.6  11.2]\n",
            "  [-10.6 -13.2  -7.8 ...   8.    3.6  -4.8]\n",
            "  [  2.4   5.8   0.2 ...  -2.   -6.4   2.2]\n",
            "  [  8.4   5.8   4.2 ... -15.  -12.4 -11.8]\n",
            "  [  1.4   2.8   3.2 ...   0.    0.6   3.2]]\n",
            "\n",
            " [[ -6.2  -2.6  -2.4 ... -42.4 -42.  -41.8]\n",
            "  [  5.8   1.4   0.6 ...  10.6  11.   13.2]\n",
            "  [  2.8   1.4  -0.4 ...   6.6   8.    6.2]\n",
            "  [  3.8   3.4   7.6 ...  14.6  11.   15.2]\n",
            "  [ -6.2  -3.6  -5.4 ...  10.6  12.    7.2]]]\n"
          ],
          "name": "stdout"
        }
      ]
    },
    {
      "cell_type": "code",
      "metadata": {
        "colab": {
          "base_uri": "https://localhost:8080/"
        },
        "id": "Bgzrse2nPaMj",
        "outputId": "16630c55-c5b7-48ac-f374-b0e4ad38c5ef"
      },
      "source": [
        "S = np.zeros((10304,10304))\n",
        "for z in Z:\n",
        "    S += np.dot(z.T, z)\n",
        "print(S)"
      ],
      "execution_count": null,
      "outputs": [
        {
          "output_type": "stream",
          "text": [
            "[[26788.8 26876.2 25602.6 ...  2765.   1337.8  2004. ]\n",
            " [26876.2 29466.8 27233.2 ...  2085.6   488.4   805.8]\n",
            " [25602.6 27233.2 28124.  ...  3158.8   843.2  -231. ]\n",
            " ...\n",
            " [ 2765.   2085.6  3158.8 ... 80042.8 67178.8 44794.4]\n",
            " [ 1337.8   488.4   843.2 ... 67178.8 75098.4 55877.8]\n",
            " [ 2004.    805.8  -231.  ... 44794.4 55877.8 77690.4]]\n"
          ],
          "name": "stdout"
        }
      ]
    },
    {
      "cell_type": "code",
      "metadata": {
        "colab": {
          "base_uri": "https://localhost:8080/"
        },
        "id": "wN-w8ggjSRxs",
        "outputId": "20618775-6775-45b2-cf99-2c2dac0a3e02"
      },
      "source": [
        "S_inv = np.linalg.inv(S)\n",
        "print('S_inv', np.shape(S_inv))\n",
        "A = np.dot(S_inv, Sb)\n",
        "print(A)"
      ],
      "execution_count": null,
      "outputs": [
        {
          "output_type": "stream",
          "text": [
            "S_inv (10304, 10304)\n",
            "[[ 2.06612488e+16  2.12890119e+16  2.07115349e+16 ... -1.28429589e+15\n",
            "  -1.35673565e+15 -2.79063291e+15]\n",
            " [-2.52987523e+16 -2.70086352e+16 -2.66481663e+16 ...  3.39589774e+16\n",
            "   3.73127002e+16  4.76304187e+16]\n",
            " [ 9.64275010e+15  8.38548186e+15  9.32496348e+15 ...  2.27423936e+15\n",
            "   1.06996476e+15  1.01549896e+16]\n",
            " ...\n",
            " [-1.26848391e+15 -1.12061020e+15 -1.22537181e+15 ... -1.59932693e+13\n",
            "  -1.49541914e+14 -1.52699217e+15]\n",
            " [-4.72260798e+15 -4.85444688e+15 -4.74771807e+15 ... -1.07083171e+15\n",
            "  -8.78263654e+14 -2.58815356e+13]\n",
            " [ 1.53074860e+13 -1.95494114e+14 -3.89395263e+13 ...  1.59093101e+15\n",
            "   1.73496619e+15  3.22480447e+15]]\n"
          ],
          "name": "stdout"
        }
      ]
    },
    {
      "cell_type": "code",
      "metadata": {
        "id": "DpJGBsrLTY81",
        "colab": {
          "base_uri": "https://localhost:8080/"
        },
        "outputId": "a6ee13ed-dbbd-43f2-ce7d-a5ec5d19e8f4"
      },
      "source": [
        "eigen_values, eigen_vectors = np.linalg.eigh(A)\n",
        "print('Eigen values', eigen_values)\n",
        "print('Eigen vectors', eigen_vectors)"
      ],
      "execution_count": null,
      "outputs": [
        {
          "output_type": "stream",
          "text": [
            "Eigen values [-1.91909478e+19 -1.54216445e+19 -8.44035158e+18 ...  8.40379115e+18\n",
            "  1.56797293e+19  1.93319139e+19]\n",
            "Eigen vectors [[ 0.01746449 -0.01041765  0.01485171 ... -0.01392619  0.01058705\n",
            "  -0.0173771 ]\n",
            " [ 0.01760479 -0.01092636  0.01513322 ... -0.01404117  0.01104095\n",
            "  -0.01743494]\n",
            " [ 0.01762653 -0.0106283   0.01473289 ... -0.01387956  0.01083349\n",
            "  -0.01757997]\n",
            " ...\n",
            " [ 0.00912516  0.01625137  0.0044229  ...  0.00527573  0.01587971\n",
            "   0.00890904]\n",
            " [ 0.00029196 -0.01008289  0.00782615 ...  0.00749582 -0.00997297\n",
            "   0.00046716]\n",
            " [-0.00748389 -0.01904952 -0.00443128 ... -0.00543545 -0.018661\n",
            "  -0.00719696]]\n"
          ],
          "name": "stdout"
        }
      ]
    },
    {
      "cell_type": "code",
      "metadata": {
        "id": "Y-9F-fjjW-Pk",
        "colab": {
          "base_uri": "https://localhost:8080/"
        },
        "outputId": "d4c10c6e-ba37-4b10-fca5-507d72383185"
      },
      "source": [
        "# eigen_vectors = eigen_vectors.T\n",
        "idx = np.argsort(eigen_values)[::-1]\n",
        "eigen_values = eigen_values[idx]\n",
        "eigen_vectors = eigen_vectors[:,idx]\n",
        "print(eigen_values)"
      ],
      "execution_count": null,
      "outputs": [
        {
          "output_type": "stream",
          "text": [
            "[ 1.93319139e+19  1.56797293e+19  8.40379115e+18 ... -8.44035158e+18\n",
            " -1.54216445e+19 -1.91909478e+19]\n"
          ],
          "name": "stdout"
        }
      ]
    },
    {
      "cell_type": "code",
      "metadata": {
        "id": "7nPvKtoGdjYx",
        "colab": {
          "base_uri": "https://localhost:8080/"
        },
        "outputId": "f4985fe7-4469-4299-f825-5b8620a56e26"
      },
      "source": [
        "dominant_eigen_vectors = eigen_vectors.T[:39,:] \n",
        "print('Dominant eigen vectors',dominant_eigen_vectors)"
      ],
      "execution_count": null,
      "outputs": [
        {
          "output_type": "stream",
          "text": [
            "Dominant eigen vectors [[-0.0173771  -0.01743494 -0.01757997 ...  0.00890904  0.00046716\n",
            "  -0.00719696]\n",
            " [ 0.01058705  0.01104095  0.01083349 ...  0.01587971 -0.00997297\n",
            "  -0.018661  ]\n",
            " [-0.01392619 -0.01404117 -0.01387956 ...  0.00527573  0.00749582\n",
            "  -0.00543545]\n",
            " ...\n",
            " [ 0.0331968   0.03143917  0.03467212 ... -0.00960561  0.01318281\n",
            "   0.0081217 ]\n",
            " [-0.00093766 -0.00054173 -0.00078387 ...  0.00017397 -0.00585893\n",
            "  -0.00296858]\n",
            " [ 0.01756377  0.01728738  0.01888958 ...  0.01306499 -0.01268392\n",
            "  -0.00929378]]\n"
          ],
          "name": "stdout"
        }
      ]
    },
    {
      "cell_type": "code",
      "metadata": {
        "id": "bGFjpwlTh7n2",
        "colab": {
          "base_uri": "https://localhost:8080/"
        },
        "outputId": "6d942995-11f2-431e-b050-207c3e17e158"
      },
      "source": [
        "from sklearn.neighbors import KNeighborsClassifier\n",
        "from sklearn.metrics import accuracy_score\n",
        "\n",
        " \n",
        "neighbors=np.array([1,3,5,7])\n",
        "accuracy=[]\n",
        "projected_train=np.dot(train_X,dominant_eigen_vectors.T)\n",
        "projected_test=np.dot(test_X,dominant_eigen_vectors.T)\n",
        "for neighbor_num in neighbors: \n",
        "    print(f'neighbors = {neighbor_num}')\n",
        "    neigh = KNeighborsClassifier(n_neighbors=neighbor_num)\n",
        "    neigh.fit(projected_train,train_y)\n",
        "    accuracy.append(neigh.score(projected_test,test_y))\n",
        "    print(neigh.score(projected_test,test_y),'\\n\\n')\n",
        "\n",
        "print('Accuracy', accuracy)"
      ],
      "execution_count": null,
      "outputs": [
        {
          "output_type": "stream",
          "text": [
            "neighbors = 1\n",
            "0.945 \n",
            "\n",
            "\n",
            "neighbors = 3\n",
            "0.885 \n",
            "\n",
            "\n",
            "neighbors = 5\n",
            "0.825 \n",
            "\n",
            "\n",
            "neighbors = 7\n",
            "0.81 \n",
            "\n",
            "\n",
            "Accuracy [0.945, 0.885, 0.825, 0.81]\n"
          ],
          "name": "stdout"
        }
      ]
    },
    {
      "cell_type": "code",
      "metadata": {
        "colab": {
          "base_uri": "https://localhost:8080/",
          "height": 316
        },
        "id": "VUbFtVVzLt5_",
        "outputId": "10f34f68-22e4-4dca-9ab2-74858cf921fc"
      },
      "source": [
        "plt.xlabel(\"N_Neighbors\")\n",
        "plt.ylabel(\"Accuracy\")\n",
        "plt.title(\"KNN vs Accuracy Scatter\",fontsize=15)\n",
        "plt.grid()\n",
        "plt.scatter(neighbors,accuracy)"
      ],
      "execution_count": null,
      "outputs": [
        {
          "output_type": "execute_result",
          "data": {
            "text/plain": [
              "<matplotlib.collections.PathCollection at 0x7fde2845b550>"
            ]
          },
          "metadata": {
            "tags": []
          },
          "execution_count": 43
        },
        {
          "output_type": "display_data",
          "data": {
            "image/png": "[encoded data removed]",
            "text/plain": [
              "<Figure size 432x288 with 1 Axes>"
            ]
          },
          "metadata": {
            "tags": [],
            "needs_background": "light"
          }
        }
      ]
    },
    {
      "cell_type": "markdown",
      "metadata": {
        "id": "Jd1P_v9peZHO"
      },
      "source": [
        "# **Compare vs non-face images**"
      ]
    },
    {
      "cell_type": "code",
      "metadata": {
        "colab": {
          "base_uri": "https://localhost:8080/"
        },
        "id": "S6tnEhzNecQu",
        "outputId": "ae68d3b1-1c89-4328-9491-cc9cdfbfc5cb"
      },
      "source": [
        " os.chdir('/content')\n",
        "!kaggle datasets download -d prasunroy/natural-images"
      ],
      "execution_count": null,
      "outputs": [
        {
          "output_type": "stream",
          "text": [
            "Downloading natural-images.zip to /content\n",
            " 98% 337M/342M [00:01<00:00, 233MB/s]\n",
            "100% 342M/342M [00:01<00:00, 220MB/s]\n"
          ],
          "name": "stdout"
        }
      ]
    },
    {
      "cell_type": "code",
      "metadata": {
        "id": "BhIajaI2e-dP"
      },
      "source": [
        "os.chdir('/content')\n",
        "! mkdir non_faces\n",
        "! unzip natural-images.zip -d /content/non_faces\n",
        "\n"
      ],
      "execution_count": null,
      "outputs": []
    },
    {
      "cell_type": "code",
      "metadata": {
        "colab": {
          "base_uri": "https://localhost:8080/"
        },
        "id": "tQoAvwjgMI2q",
        "outputId": "13bea61c-e463-4522-d4fa-e7579a22be90"
      },
      "source": [
        " pip install pillow"
      ],
      "execution_count": null,
      "outputs": [
        {
          "output_type": "stream",
          "text": [
            "Requirement already satisfied: pillow in /usr/local/lib/python3.7/dist-packages (7.1.2)\n"
          ],
          "name": "stdout"
        }
      ]
    },
    {
      "cell_type": "markdown",
      "metadata": {
        "id": "m2Id1iU-OQSS"
      },
      "source": [
        "Preparing the non-face dataset"
      ]
    },
    {
      "cell_type": "code",
      "metadata": {
        "colab": {
          "base_uri": "https://localhost:8080/"
        },
        "id": "VNTNytXggc0Z",
        "outputId": "39d0335b-4f30-4532-e6e5-132e5ae602f9"
      },
      "source": [
        "import os\n",
        "from skimage.io import imread\n",
        "import numpy as np\n",
        "from PIL import Image\n",
        "import PIL\n",
        "import glob\n",
        "os.chdir('/content/non_faces/natural_images')\n",
        "directory = os.getcwd()\n",
        "files=os.listdir(directory)\n",
        "files.remove('person')\n",
        "files.sort()\n",
        "no_face_dataset=[]\n",
        "no_face_y=[]\n",
        "\n",
        "class_id = -1\n",
        "pictures_per_class = 600\n",
        "\n",
        "for class_name in files:\n",
        "    class_id += 1\n",
        "    each_file=os.listdir(class_name)\n",
        "    each_file.sort()\n",
        "    count = pictures_per_class\n",
        "    # if class_name == 'motorbike':\n",
        "    #   count += 1\n",
        "    for i in range(count):\n",
        "      path = os.getcwd() + '/' + class_name + '/' + each_file[i]\n",
        "      img = Image.open(path)\n",
        "      resized_img = img.resize((92,112))\n",
        "      img = resized_img.convert('L')\n",
        "      ready_image = np.array(img)\n",
        "      no_face_dataset.append(ready_image.flatten())\n",
        "      no_face_y.append(class_id)\n",
        "\n",
        "no_face_y = np.array(no_face_y)\n",
        "no_face_dataset = np.array(no_face_dataset)\n",
        "print(np.shape(no_face_dataset))"
      ],
      "execution_count": null,
      "outputs": [
        {
          "output_type": "stream",
          "text": [
            "(4200, 10304)\n"
          ],
          "name": "stdout"
        }
      ]
    },
    {
      "cell_type": "markdown",
      "metadata": {
        "id": "WHlPDTy-vVW2"
      },
      "source": [
        "Splitting faces and no faces dataset"
      ]
    },
    {
      "cell_type": "code",
      "metadata": {
        "id": "ThmGw6Q6YXMu",
        "colab": {
          "base_uri": "https://localhost:8080/"
        },
        "outputId": "b5e0f84e-8851-4b6c-bf2e-c9aabff11aef"
      },
      "source": [
        "faces_and_nofaces = np.concatenate((Dataset, no_face_dataset))\n",
        "print(np.shape(faces_and_nofaces))\n",
        "labels_y = np.concatenate((np.ones(400),np.zeros(4200)), axis = 0)\n",
        "train_X_ = faces_and_nofaces[0::2]\n",
        "train_y_ = labels_y[0::2]\n",
        "test_X_ = faces_and_nofaces[1::2]\n",
        "test_y_ =labels_y[1::2]\n",
        "print(np.shape(labels_y))\n",
        "print(np.shape(no_face_dataset))"
      ],
      "execution_count": null,
      "outputs": [
        {
          "output_type": "stream",
          "text": [
            "(4600, 10304)\n",
            "(4600,)\n",
            "(4200, 10304)\n"
          ],
          "name": "stdout"
        }
      ]
    },
    {
      "cell_type": "markdown",
      "metadata": {
        "id": "iPjYf98CvmPU"
      },
      "source": [
        "# Classification of faces vs no faces using **PCA**"
      ]
    },
    {
      "cell_type": "code",
      "metadata": {
        "colab": {
          "base_uri": "https://localhost:8080/"
        },
        "id": "8b7-pve5vjG_",
        "outputId": "bb094b5a-9f6e-4116-d3ba-7d9716da52ff"
      },
      "source": [
        "means_=np.mean(train_X_,axis=0)\n",
        "print(means_)\n",
        "cov_=np.cov(train_X_.T)\n",
        "print(cov_)\n",
        "eigenVal_,eigenVec_=np.linalg.eigh(cov_.T)"
      ],
      "execution_count": null,
      "outputs": [
        {
          "output_type": "stream",
          "text": [
            "[127.1875 126.535  126.4475 ... 117.52   118.1925 118.1825]\n",
            "[[5377.12014411 5322.01723058 5253.56751253 ... 3517.5764411\n",
            "  3531.26707393 3587.53461779]\n",
            " [5322.01723058 5400.42984962 5352.67978697 ... 3483.73363409\n",
            "  3502.52582707 3564.17780702]\n",
            " [5253.56751253 5352.67978697 5387.68144737 ... 3398.10756892\n",
            "  3414.00887845 3477.08604637]\n",
            " ...\n",
            " [3517.5764411  3483.73363409 3398.10756892 ... 5740.47077694\n",
            "  5686.51619048 5534.25323308]\n",
            " [3531.26707393 3502.52582707 3414.00887845 ... 5686.51619048\n",
            "  5745.39392857 5622.68909148]\n",
            " [3587.53461779 3564.17780702 3477.08604637 ... 5534.25323308\n",
            "  5622.68909148 5739.44781328]]\n"
          ],
          "name": "stdout"
        }
      ]
    },
    {
      "cell_type": "code",
      "metadata": {
        "colab": {
          "base_uri": "https://localhost:8080/"
        },
        "id": "lHdR3KeMvrlj",
        "outputId": "dfcd66cc-32b0-46e3-b3f4-b04b13720788"
      },
      "source": [
        "#sort eigenValues and eigenvector from higher to lower\n",
        "idx_ = eigenVal_.argsort()[::-1]\n",
        "eigenVal_ = eigenVal_[idx_]\n",
        "eigenVec_ = eigenVec_[:,idx_]\n",
        "print(eigenVal_)"
      ],
      "execution_count": null,
      "outputs": [
        {
          "output_type": "stream",
          "text": [
            "[ 1.25447411e+07  4.84744561e+06  2.81235002e+06 ... -4.07133153e-09\n",
            " -4.59083326e-09 -4.94040856e-09]\n"
          ],
          "name": "stdout"
        }
      ]
    },
    {
      "cell_type": "code",
      "metadata": {
        "colab": {
          "base_uri": "https://localhost:8080/"
        },
        "id": "U1EVCVomvuhz",
        "outputId": "2bdf7638-e4c8-4f61-fc37-09f5cc8aa325"
      },
      "source": [
        "#calcaluting r for each alpha \n",
        "alpha_arr_ = np.array([0.8,0.85,0.9,0.95])\n",
        "r_peralpha_=[]\n",
        "for alpha in alpha_arr_:\n",
        "  r=0\n",
        "  while(np.sum(eigenVal_[0:r])/np.sum(eigenVal_)-alpha<=1e-6):\n",
        "    r+=1\n",
        "  r_peralpha_.append(r)\n",
        "print(r_peralpha_)\n"
      ],
      "execution_count": null,
      "outputs": [
        {
          "output_type": "stream",
          "text": [
            "[35, 54, 88, 153]\n"
          ],
          "name": "stdout"
        }
      ]
    },
    {
      "cell_type": "code",
      "metadata": {
        "colab": {
          "base_uri": "https://localhost:8080/"
        },
        "id": "rbfyU0yOvy50",
        "outputId": "749fd6d2-7ec2-4b8b-8bea-8976e254012c"
      },
      "source": [
        "#calculating projected data for each alpha\n",
        "from sklearn.neighbors import KNeighborsClassifier\n",
        "accuracy_=[]\n",
        "neighbors_=np.array([1])\n",
        "for r in r_peralpha_:\n",
        "  projected_train_ = np.dot(train_X_,eigenVec_[:,0:r])\n",
        "  projected_test_ = np.dot(test_X_,eigenVec_[:,0:r])\n",
        "  for neighbor_num in neighbors_: \n",
        "    neigh = KNeighborsClassifier(n_neighbors=neighbor_num,weights = 'distance')\n",
        "    neigh.fit(projected_train_,train_y_)\n",
        "    accuracy_.append(neigh.score(projected_test_,test_y_))\n",
        "\n",
        "print(accuracy_)\n",
        "    "
      ],
      "execution_count": null,
      "outputs": [
        {
          "output_type": "stream",
          "text": [
            "[0.915, 0.895, 0.8825, 0.855]\n"
          ],
          "name": "stdout"
        }
      ]
    },
    {
      "cell_type": "code",
      "metadata": {
        "colab": {
          "base_uri": "https://localhost:8080/",
          "height": 297
        },
        "id": "BJLFqcP1LmrB",
        "outputId": "7c33b979-43f5-4a10-a230-bc1ef7ef9e9f"
      },
      "source": [
        "import matplotlib.pyplot as plt\n",
        "plt.xlabel(\"Alpha\")\n",
        "plt.ylabel(\"Accuracy\")\n",
        "plt.title(\"Alpha with accuracy graph\",fontsize=15)\n",
        "plt.scatter(alpha_arr_,accuracy_)\n",
        "plt.show()"
      ],
      "execution_count": null,
      "outputs": [
        {
          "output_type": "display_data",
          "data": {
            "image/png": "[encoded data removed]",
            "text/plain": [
              "<Figure size 432x288 with 1 Axes>"
            ]
          },
          "metadata": {
            "tags": []
          }
        }
      ]
    },
    {
      "cell_type": "markdown",
      "metadata": {
        "id": "jYpMzebUwBYM"
      },
      "source": [
        "# Classification of faces vs no faces using **LDA**"
      ]
    },
    {
      "cell_type": "code",
      "metadata": {
        "colab": {
          "base_uri": "https://localhost:8080/"
        },
        "id": "jZIrYDGFn4hY",
        "outputId": "bf0bc6c2-3584-45de-a9c0-f38fef340c6c"
      },
      "source": [
        "samples_per_class = [25,50,100,200,300,400,500,600]\n",
        "\n",
        "for j in samples_per_class:\n",
        "  non_face_classes = []\n",
        "  for i in range(0, 4200, 600):\n",
        "    for k in range(i,i+j):\n",
        "      non_face_classes.append(no_face_dataset[k])\n",
        "print(np.shape(non_face_classes))"
      ],
      "execution_count": null,
      "outputs": [
        {
          "output_type": "stream",
          "text": [
            "(4200, 10304)\n"
          ],
          "name": "stdout"
        }
      ]
    },
    {
      "cell_type": "code",
      "metadata": {
        "colab": {
          "base_uri": "https://localhost:8080/"
        },
        "id": "nK44Iu6m_3r4",
        "outputId": "99ee8f16-61be-41bc-d13c-77eec5a7a5d3"
      },
      "source": [
        "from sklearn.neighbors import KNeighborsClassifier\n",
        "from sklearn.metrics import accuracy_score\n",
        "import matplotlib.pyplot as plt\n",
        "# samples_per_class = [26,50,100,200,300,400,500,600]\n",
        "# num_of_nonface = [100,200,400,600,1000,1500,2000,2500,3000,3500,4200]\n",
        "samples_per_class = [600]\n",
        "# num_of_nonface = [100,1000]\n",
        "accuracy=[]\n",
        "for run, spc in enumerate(samples_per_class):\n",
        "  print(f'run number: {run+1}')\n",
        "  non_face_classes = []  \n",
        "  for i in range(0, 4200, 600):\n",
        "    for k in range(i,i+spc):\n",
        "      non_face_classes.append(no_face_dataset[k])\n",
        "# for amount_of_nonfaces in num_of_nonface:\n",
        "  print('non face classes', np.shape(non_face_classes))\n",
        "  faces_and_nofaces = np.concatenate((Dataset, non_face_classes))\n",
        "  print('totall',np.shape(faces_and_nofaces))\n",
        "  labels_y = np.concatenate((np.ones(400),np.zeros(len(non_face_classes))), axis = 0)\n",
        "  train_X_ = faces_and_nofaces[0::2]\n",
        "  train_y_ = labels_y[0::2]\n",
        "  test_X_ = faces_and_nofaces[1::2]\n",
        "  test_y_ =labels_y[1::2]\n",
        "  amount_of_nonfaces = len(non_face_classes)\n",
        "  D_ = np.array(train_X_)\n",
        "  D1 = D_[0:200]\n",
        "  D2 = D_[200: (200+ amount_of_nonfaces//2)]\n",
        "  print('D', np.shape(D_))\n",
        "  means_ = []\n",
        "  # for current_class in D_:\n",
        "  means_.append(np.mean(D1, axis=0))\n",
        "  means_.append(np.mean(D2, axis = 0))\n",
        "  print('Means', np.shape(means_))\n",
        "  overall_mean_ = np.array([np.mean(D_, axis=0)])\n",
        "  print('Overall mean', np.shape(overall_mean_))\n",
        "  print(means_)\n",
        "  sub = np.subtract(means_[0] , means_[1])\n",
        "  B = np.dot(sub.T, sub)\n",
        "  print(np.shape(B))\n",
        "  # sub = np.subtract(means_[:1] , means_[1:2])\n",
        "  # B = np.dot(sub.T, sub)\n",
        "  # print(np.shape(B))\n",
        "  Z_ = []\n",
        "  Z_.append(D1 - np.ones((200,1))*means_[0])\n",
        "  Z_.append(D2 - np.ones(((amount_of_nonfaces//2),1))*means_[1])\n",
        "  # for mu, Di in zip(means_, D_):\n",
        "  #     current_z = Di - np.ones(((400+amount_of_nonfaces)/2,1))*mu\n",
        "  #     Z_.append(current_z)\n",
        "  Z_ = np.array(Z_)\n",
        "  print('Z', np.shape(Z_))\n",
        "  S_ = np.zeros((10304,10304))\n",
        "  for z in Z_:\n",
        "      S_ += np.dot(z.T, z)\n",
        "  print('S', np.shape(S_))\n",
        "  S_inv_ = np.linalg.inv(S_)\n",
        "  print('S_inv', np.shape(S_inv_))\n",
        "  A_ = np.dot(S_inv_, B)\n",
        "  print('A', np.shape(A_))\n",
        "  eigen_values_, eigen_vectors_ = np.linalg.eigh(A_)\n",
        "  print('Eigen values', np.shape(eigen_values_))\n",
        "  print('Eigen vectors', np.shape(eigen_vectors_))\n",
        "\n",
        "  idx_ = np.argsort(eigen_values_)[::-1]\n",
        "  eigen_values_ = eigen_values_[idx_]\n",
        "  eigen_vectors_ = eigen_vectors_[:,idx_]\n",
        "  eig_sum = sum(eigen_values_)\n",
        "  print(eigen_values_)\n",
        "  print(eig_sum)\n",
        "  dominant_eigen_vectors_ = eigen_vectors_.T[:39,:] \n",
        "  print('Dominant eigen vectors', np.shape(dominant_eigen_vectors_))\n",
        "  neighbors=np.array([1])\n",
        "  projected_train=np.dot(train_X_,dominant_eigen_vectors_.T)\n",
        "  projected_test=np.dot(test_X_,dominant_eigen_vectors_.T)\n",
        "  for neighbor_num in neighbors: \n",
        "      print(f'neighbors = {neighbor_num}')\n",
        "      neigh = KNeighborsClassifier(n_neighbors=neighbor_num)\n",
        "      neigh.fit(projected_train,train_y_)\n",
        "      acc = neigh.score(projected_test,test_y_)\n",
        "      accuracy.append(acc)\n",
        "      print(f'accuracy for {amount_of_nonfaces} non faces = {acc}')\n",
        "      predicted_labels = neigh.predict(projected_test)\n",
        "\n",
        "      # print(neigh.score(projected_test,test_y_),'\\n\\n')\n",
        "      # testing_label = classifier.predict(projected_test)\n",
        "      # print('testing label: ', testing_label)\n",
        "# num_of_nonface = [182,350,700,1400,2100,2800,3500,4200]\n",
        "\n",
        "print('projected_test', np.shape(projected_test))\n",
        "print('predicted_labels',np.shape(predicted_labels))\n",
        "print(predicted_labels)\n",
        "print('test_y_',np.shape(test_y_))\n",
        "print(test_y_)\n",
        "print('Accuracy ', accuracy)\n",
        "print('Amounts of non faces tested ', num_of_nonface)\n",
        "# plt.plot(num_of_nonface, accuracy)\n",
        "# plt.xlabel('number of non faces')\n",
        "# plt.ylabel('Accuracy')"
      ],
      "execution_count": null,
      "outputs": [
        {
          "output_type": "stream",
          "text": [
            "run number: 1\n",
            "non face classes (4200, 10304)\n",
            "totall (4600, 10304)\n",
            "D (2300, 10304)\n",
            "Means (2, 10304)\n",
            "Overall mean (1, 10304)\n",
            "[array([86.115, 86.265, 86.685, ..., 76.5  , 77.395, 77.085]), array([143.81238095, 143.90333333, 144.0347619 , ..., 144.64095238,\n",
            "       145.72619048, 146.63095238])]\n",
            "()\n",
            "(10304, 10304)\n",
            "Z (2,)\n"
          ],
          "name": "stdout"
        },
        {
          "output_type": "stream",
          "text": [
            "/usr/local/lib/python3.7/dist-packages/ipykernel_launcher.py:49: VisibleDeprecationWarning: Creating an ndarray from ragged nested sequences (which is a list-or-tuple of lists-or-tuples-or ndarrays with different lengths or shapes) is deprecated. If you meant to do this, you must specify 'dtype=object' when creating the ndarray\n"
          ],
          "name": "stderr"
        },
        {
          "output_type": "stream",
          "text": [
            "S (10304, 10304)\n",
            "S_inv (10304, 10304)\n",
            "A (10304, 10304)\n",
            "Eigen values (10304,)\n",
            "Eigen vectors (10304, 10304)\n",
            "[ 1.63916893e+14  4.54990600e+13  2.94124361e+13 ... -2.93442257e+13\n",
            " -4.54706588e+13 -1.63888864e+14]\n",
            "22464020017.15625\n",
            "Dominant eigen vectors (39, 10304)\n",
            "neighbors = 1\n",
            "accuracy for 4200 non faces = 0.9695652173913043\n",
            "projected_test (2300, 39)\n",
            "predicted_labels (2300,)\n",
            "[0. 1. 0. ... 0. 0. 0.]\n",
            "test_y_ (2300,)\n",
            "[1. 1. 1. ... 0. 0. 0.]\n",
            "Accuracy  [0.9695652173913043]\n",
            "Amounts of non faces tested  [182, 350, 700, 1400, 2100, 2800, 3500, 4200]\n"
          ],
          "name": "stdout"
        }
      ]
    },
    {
      "cell_type": "code",
      "metadata": {
        "colab": {
          "base_uri": "https://localhost:8080/"
        },
        "id": "U8DawBQ34Z3W",
        "outputId": "a891045e-19dd-4643-e3f6-516ae91f120f"
      },
      "source": [
        "success = []\n",
        "failure = []\n",
        "for i in range(len(predicted_labels)):\n",
        "  if predicted_labels[i] != test_y_[i]:\n",
        "    failure.append(i)\n",
        "  else:\n",
        "    success.append(i)\n",
        "print(f'failure: {len(failure)}\\n', failure)\n",
        "print(f'success: {len(success)}\\n', success)\n"
      ],
      "execution_count": null,
      "outputs": [
        {
          "output_type": "stream",
          "text": [
            "failure: 70\n",
            " [0, 2, 4, 96, 97, 150, 236, 259, 518, 576, 589, 640, 646, 652, 654, 681, 696, 790, 824, 825, 830, 838, 850, 875, 909, 911, 918, 937, 960, 983, 988, 1029, 1048, 1070, 1081, 1088, 1128, 1157, 1200, 1227, 1243, 1256, 1295, 1319, 1346, 1422, 1434, 1448, 1453, 1482, 1487, 1488, 1491, 1502, 1506, 1557, 1564, 1569, 1585, 1591, 1595, 1618, 1626, 1632, 1648, 1657, 1676, 1680, 1683, 1696]\n",
            "success: 2230\n",
            " [1, 3, 5, 6, 7, 8, 9, 10, 11, 12, 13, 14, 15, 16, 17, 18, 19, 20, 21, 22, 23, 24, 25, 26, 27, 28, 29, 30, 31, 32, 33, 34, 35, 36, 37, 38, 39, 40, 41, 42, 43, 44, 45, 46, 47, 48, 49, 50, 51, 52, 53, 54, 55, 56, 57, 58, 59, 60, 61, 62, 63, 64, 65, 66, 67, 68, 69, 70, 71, 72, 73, 74, 75, 76, 77, 78, 79, 80, 81, 82, 83, 84, 85, 86, 87, 88, 89, 90, 91, 92, 93, 94, 95, 98, 99, 100, 101, 102, 103, 104, 105, 106, 107, 108, 109, 110, 111, 112, 113, 114, 115, 116, 117, 118, 119, 120, 121, 122, 123, 124, 125, 126, 127, 128, 129, 130, 131, 132, 133, 134, 135, 136, 137, 138, 139, 140, 141, 142, 143, 144, 145, 146, 147, 148, 149, 151, 152, 153, 154, 155, 156, 157, 158, 159, 160, 161, 162, 163, 164, 165, 166, 167, 168, 169, 170, 171, 172, 173, 174, 175, 176, 177, 178, 179, 180, 181, 182, 183, 184, 185, 186, 187, 188, 189, 190, 191, 192, 193, 194, 195, 196, 197, 198, 199, 200, 201, 202, 203, 204, 205, 206, 207, 208, 209, 210, 211, 212, 213, 214, 215, 216, 217, 218, 219, 220, 221, 222, 223, 224, 225, 226, 227, 228, 229, 230, 231, 232, 233, 234, 235, 237, 238, 239, 240, 241, 242, 243, 244, 245, 246, 247, 248, 249, 250, 251, 252, 253, 254, 255, 256, 257, 258, 260, 261, 262, 263, 264, 265, 266, 267, 268, 269, 270, 271, 272, 273, 274, 275, 276, 277, 278, 279, 280, 281, 282, 283, 284, 285, 286, 287, 288, 289, 290, 291, 292, 293, 294, 295, 296, 297, 298, 299, 300, 301, 302, 303, 304, 305, 306, 307, 308, 309, 310, 311, 312, 313, 314, 315, 316, 317, 318, 319, 320, 321, 322, 323, 324, 325, 326, 327, 328, 329, 330, 331, 332, 333, 334, 335, 336, 337, 338, 339, 340, 341, 342, 343, 344, 345, 346, 347, 348, 349, 350, 351, 352, 353, 354, 355, 356, 357, 358, 359, 360, 361, 362, 363, 364, 365, 366, 367, 368, 369, 370, 371, 372, 373, 374, 375, 376, 377, 378, 379, 380, 381, 382, 383, 384, 385, 386, 387, 388, 389, 390, 391, 392, 393, 394, 395, 396, 397, 398, 399, 400, 401, 402, 403, 404, 405, 406, 407, 408, 409, 410, 411, 412, 413, 414, 415, 416, 417, 418, 419, 420, 421, 422, 423, 424, 425, 426, 427, 428, 429, 430, 431, 432, 433, 434, 435, 436, 437, 438, 439, 440, 441, 442, 443, 444, 445, 446, 447, 448, 449, 450, 451, 452, 453, 454, 455, 456, 457, 458, 459, 460, 461, 462, 463, 464, 465, 466, 467, 468, 469, 470, 471, 472, 473, 474, 475, 476, 477, 478, 479, 480, 481, 482, 483, 484, 485, 486, 487, 488, 489, 490, 491, 492, 493, 494, 495, 496, 497, 498, 499, 500, 501, 502, 503, 504, 505, 506, 507, 508, 509, 510, 511, 512, 513, 514, 515, 516, 517, 519, 520, 521, 522, 523, 524, 525, 526, 527, 528, 529, 530, 531, 532, 533, 534, 535, 536, 537, 538, 539, 540, 541, 542, 543, 544, 545, 546, 547, 548, 549, 550, 551, 552, 553, 554, 555, 556, 557, 558, 559, 560, 561, 562, 563, 564, 565, 566, 567, 568, 569, 570, 571, 572, 573, 574, 575, 577, 578, 579, 580, 581, 582, 583, 584, 585, 586, 587, 588, 590, 591, 592, 593, 594, 595, 596, 597, 598, 599, 600, 601, 602, 603, 604, 605, 606, 607, 608, 609, 610, 611, 612, 613, 614, 615, 616, 617, 618, 619, 620, 621, 622, 623, 624, 625, 626, 627, 628, 629, 630, 631, 632, 633, 634, 635, 636, 637, 638, 639, 641, 642, 643, 644, 645, 647, 648, 649, 650, 651, 653, 655, 656, 657, 658, 659, 660, 661, 662, 663, 664, 665, 666, 667, 668, 669, 670, 671, 672, 673, 674, 675, 676, 677, 678, 679, 680, 682, 683, 684, 685, 686, 687, 688, 689, 690, 691, 692, 693, 694, 695, 697, 698, 699, 700, 701, 702, 703, 704, 705, 706, 707, 708, 709, 710, 711, 712, 713, 714, 715, 716, 717, 718, 719, 720, 721, 722, 723, 724, 725, 726, 727, 728, 729, 730, 731, 732, 733, 734, 735, 736, 737, 738, 739, 740, 741, 742, 743, 744, 745, 746, 747, 748, 749, 750, 751, 752, 753, 754, 755, 756, 757, 758, 759, 760, 761, 762, 763, 764, 765, 766, 767, 768, 769, 770, 771, 772, 773, 774, 775, 776, 777, 778, 779, 780, 781, 782, 783, 784, 785, 786, 787, 788, 789, 791, 792, 793, 794, 795, 796, 797, 798, 799, 800, 801, 802, 803, 804, 805, 806, 807, 808, 809, 810, 811, 812, 813, 814, 815, 816, 817, 818, 819, 820, 821, 822, 823, 826, 827, 828, 829, 831, 832, 833, 834, 835, 836, 837, 839, 840, 841, 842, 843, 844, 845, 846, 847, 848, 849, 851, 852, 853, 854, 855, 856, 857, 858, 859, 860, 861, 862, 863, 864, 865, 866, 867, 868, 869, 870, 871, 872, 873, 874, 876, 877, 878, 879, 880, 881, 882, 883, 884, 885, 886, 887, 888, 889, 890, 891, 892, 893, 894, 895, 896, 897, 898, 899, 900, 901, 902, 903, 904, 905, 906, 907, 908, 910, 912, 913, 914, 915, 916, 917, 919, 920, 921, 922, 923, 924, 925, 926, 927, 928, 929, 930, 931, 932, 933, 934, 935, 936, 938, 939, 940, 941, 942, 943, 944, 945, 946, 947, 948, 949, 950, 951, 952, 953, 954, 955, 956, 957, 958, 959, 961, 962, 963, 964, 965, 966, 967, 968, 969, 970, 971, 972, 973, 974, 975, 976, 977, 978, 979, 980, 981, 982, 984, 985, 986, 987, 989, 990, 991, 992, 993, 994, 995, 996, 997, 998, 999, 1000, 1001, 1002, 1003, 1004, 1005, 1006, 1007, 1008, 1009, 1010, 1011, 1012, 1013, 1014, 1015, 1016, 1017, 1018, 1019, 1020, 1021, 1022, 1023, 1024, 1025, 1026, 1027, 1028, 1030, 1031, 1032, 1033, 1034, 1035, 1036, 1037, 1038, 1039, 1040, 1041, 1042, 1043, 1044, 1045, 1046, 1047, 1049, 1050, 1051, 1052, 1053, 1054, 1055, 1056, 1057, 1058, 1059, 1060, 1061, 1062, 1063, 1064, 1065, 1066, 1067, 1068, 1069, 1071, 1072, 1073, 1074, 1075, 1076, 1077, 1078, 1079, 1080, 1082, 1083, 1084, 1085, 1086, 1087, 1089, 1090, 1091, 1092, 1093, 1094, 1095, 1096, 1097, 1098, 1099, 1100, 1101, 1102, 1103, 1104, 1105, 1106, 1107, 1108, 1109, 1110, 1111, 1112, 1113, 1114, 1115, 1116, 1117, 1118, 1119, 1120, 1121, 1122, 1123, 1124, 1125, 1126, 1127, 1129, 1130, 1131, 1132, 1133, 1134, 1135, 1136, 1137, 1138, 1139, 1140, 1141, 1142, 1143, 1144, 1145, 1146, 1147, 1148, 1149, 1150, 1151, 1152, 1153, 1154, 1155, 1156, 1158, 1159, 1160, 1161, 1162, 1163, 1164, 1165, 1166, 1167, 1168, 1169, 1170, 1171, 1172, 1173, 1174, 1175, 1176, 1177, 1178, 1179, 1180, 1181, 1182, 1183, 1184, 1185, 1186, 1187, 1188, 1189, 1190, 1191, 1192, 1193, 1194, 1195, 1196, 1197, 1198, 1199, 1201, 1202, 1203, 1204, 1205, 1206, 1207, 1208, 1209, 1210, 1211, 1212, 1213, 1214, 1215, 1216, 1217, 1218, 1219, 1220, 1221, 1222, 1223, 1224, 1225, 1226, 1228, 1229, 1230, 1231, 1232, 1233, 1234, 1235, 1236, 1237, 1238, 1239, 1240, 1241, 1242, 1244, 1245, 1246, 1247, 1248, 1249, 1250, 1251, 1252, 1253, 1254, 1255, 1257, 1258, 1259, 1260, 1261, 1262, 1263, 1264, 1265, 1266, 1267, 1268, 1269, 1270, 1271, 1272, 1273, 1274, 1275, 1276, 1277, 1278, 1279, 1280, 1281, 1282, 1283, 1284, 1285, 1286, 1287, 1288, 1289, 1290, 1291, 1292, 1293, 1294, 1296, 1297, 1298, 1299, 1300, 1301, 1302, 1303, 1304, 1305, 1306, 1307, 1308, 1309, 1310, 1311, 1312, 1313, 1314, 1315, 1316, 1317, 1318, 1320, 1321, 1322, 1323, 1324, 1325, 1326, 1327, 1328, 1329, 1330, 1331, 1332, 1333, 1334, 1335, 1336, 1337, 1338, 1339, 1340, 1341, 1342, 1343, 1344, 1345, 1347, 1348, 1349, 1350, 1351, 1352, 1353, 1354, 1355, 1356, 1357, 1358, 1359, 1360, 1361, 1362, 1363, 1364, 1365, 1366, 1367, 1368, 1369, 1370, 1371, 1372, 1373, 1374, 1375, 1376, 1377, 1378, 1379, 1380, 1381, 1382, 1383, 1384, 1385, 1386, 1387, 1388, 1389, 1390, 1391, 1392, 1393, 1394, 1395, 1396, 1397, 1398, 1399, 1400, 1401, 1402, 1403, 1404, 1405, 1406, 1407, 1408, 1409, 1410, 1411, 1412, 1413, 1414, 1415, 1416, 1417, 1418, 1419, 1420, 1421, 1423, 1424, 1425, 1426, 1427, 1428, 1429, 1430, 1431, 1432, 1433, 1435, 1436, 1437, 1438, 1439, 1440, 1441, 1442, 1443, 1444, 1445, 1446, 1447, 1449, 1450, 1451, 1452, 1454, 1455, 1456, 1457, 1458, 1459, 1460, 1461, 1462, 1463, 1464, 1465, 1466, 1467, 1468, 1469, 1470, 1471, 1472, 1473, 1474, 1475, 1476, 1477, 1478, 1479, 1480, 1481, 1483, 1484, 1485, 1486, 1489, 1490, 1492, 1493, 1494, 1495, 1496, 1497, 1498, 1499, 1500, 1501, 1503, 1504, 1505, 1507, 1508, 1509, 1510, 1511, 1512, 1513, 1514, 1515, 1516, 1517, 1518, 1519, 1520, 1521, 1522, 1523, 1524, 1525, 1526, 1527, 1528, 1529, 1530, 1531, 1532, 1533, 1534, 1535, 1536, 1537, 1538, 1539, 1540, 1541, 1542, 1543, 1544, 1545, 1546, 1547, 1548, 1549, 1550, 1551, 1552, 1553, 1554, 1555, 1556, 1558, 1559, 1560, 1561, 1562, 1563, 1565, 1566, 1567, 1568, 1570, 1571, 1572, 1573, 1574, 1575, 1576, 1577, 1578, 1579, 1580, 1581, 1582, 1583, 1584, 1586, 1587, 1588, 1589, 1590, 1592, 1593, 1594, 1596, 1597, 1598, 1599, 1600, 1601, 1602, 1603, 1604, 1605, 1606, 1607, 1608, 1609, 1610, 1611, 1612, 1613, 1614, 1615, 1616, 1617, 1619, 1620, 1621, 1622, 1623, 1624, 1625, 1627, 1628, 1629, 1630, 1631, 1633, 1634, 1635, 1636, 1637, 1638, 1639, 1640, 1641, 1642, 1643, 1644, 1645, 1646, 1647, 1649, 1650, 1651, 1652, 1653, 1654, 1655, 1656, 1658, 1659, 1660, 1661, 1662, 1663, 1664, 1665, 1666, 1667, 1668, 1669, 1670, 1671, 1672, 1673, 1674, 1675, 1677, 1678, 1679, 1681, 1682, 1684, 1685, 1686, 1687, 1688, 1689, 1690, 1691, 1692, 1693, 1694, 1695, 1697, 1698, 1699, 1700, 1701, 1702, 1703, 1704, 1705, 1706, 1707, 1708, 1709, 1710, 1711, 1712, 1713, 1714, 1715, 1716, 1717, 1718, 1719, 1720, 1721, 1722, 1723, 1724, 1725, 1726, 1727, 1728, 1729, 1730, 1731, 1732, 1733, 1734, 1735, 1736, 1737, 1738, 1739, 1740, 1741, 1742, 1743, 1744, 1745, 1746, 1747, 1748, 1749, 1750, 1751, 1752, 1753, 1754, 1755, 1756, 1757, 1758, 1759, 1760, 1761, 1762, 1763, 1764, 1765, 1766, 1767, 1768, 1769, 1770, 1771, 1772, 1773, 1774, 1775, 1776, 1777, 1778, 1779, 1780, 1781, 1782, 1783, 1784, 1785, 1786, 1787, 1788, 1789, 1790, 1791, 1792, 1793, 1794, 1795, 1796, 1797, 1798, 1799, 1800, 1801, 1802, 1803, 1804, 1805, 1806, 1807, 1808, 1809, 1810, 1811, 1812, 1813, 1814, 1815, 1816, 1817, 1818, 1819, 1820, 1821, 1822, 1823, 1824, 1825, 1826, 1827, 1828, 1829, 1830, 1831, 1832, 1833, 1834, 1835, 1836, 1837, 1838, 1839, 1840, 1841, 1842, 1843, 1844, 1845, 1846, 1847, 1848, 1849, 1850, 1851, 1852, 1853, 1854, 1855, 1856, 1857, 1858, 1859, 1860, 1861, 1862, 1863, 1864, 1865, 1866, 1867, 1868, 1869, 1870, 1871, 1872, 1873, 1874, 1875, 1876, 1877, 1878, 1879, 1880, 1881, 1882, 1883, 1884, 1885, 1886, 1887, 1888, 1889, 1890, 1891, 1892, 1893, 1894, 1895, 1896, 1897, 1898, 1899, 1900, 1901, 1902, 1903, 1904, 1905, 1906, 1907, 1908, 1909, 1910, 1911, 1912, 1913, 1914, 1915, 1916, 1917, 1918, 1919, 1920, 1921, 1922, 1923, 1924, 1925, 1926, 1927, 1928, 1929, 1930, 1931, 1932, 1933, 1934, 1935, 1936, 1937, 1938, 1939, 1940, 1941, 1942, 1943, 1944, 1945, 1946, 1947, 1948, 1949, 1950, 1951, 1952, 1953, 1954, 1955, 1956, 1957, 1958, 1959, 1960, 1961, 1962, 1963, 1964, 1965, 1966, 1967, 1968, 1969, 1970, 1971, 1972, 1973, 1974, 1975, 1976, 1977, 1978, 1979, 1980, 1981, 1982, 1983, 1984, 1985, 1986, 1987, 1988, 1989, 1990, 1991, 1992, 1993, 1994, 1995, 1996, 1997, 1998, 1999, 2000, 2001, 2002, 2003, 2004, 2005, 2006, 2007, 2008, 2009, 2010, 2011, 2012, 2013, 2014, 2015, 2016, 2017, 2018, 2019, 2020, 2021, 2022, 2023, 2024, 2025, 2026, 2027, 2028, 2029, 2030, 2031, 2032, 2033, 2034, 2035, 2036, 2037, 2038, 2039, 2040, 2041, 2042, 2043, 2044, 2045, 2046, 2047, 2048, 2049, 2050, 2051, 2052, 2053, 2054, 2055, 2056, 2057, 2058, 2059, 2060, 2061, 2062, 2063, 2064, 2065, 2066, 2067, 2068, 2069, 2070, 2071, 2072, 2073, 2074, 2075, 2076, 2077, 2078, 2079, 2080, 2081, 2082, 2083, 2084, 2085, 2086, 2087, 2088, 2089, 2090, 2091, 2092, 2093, 2094, 2095, 2096, 2097, 2098, 2099, 2100, 2101, 2102, 2103, 2104, 2105, 2106, 2107, 2108, 2109, 2110, 2111, 2112, 2113, 2114, 2115, 2116, 2117, 2118, 2119, 2120, 2121, 2122, 2123, 2124, 2125, 2126, 2127, 2128, 2129, 2130, 2131, 2132, 2133, 2134, 2135, 2136, 2137, 2138, 2139, 2140, 2141, 2142, 2143, 2144, 2145, 2146, 2147, 2148, 2149, 2150, 2151, 2152, 2153, 2154, 2155, 2156, 2157, 2158, 2159, 2160, 2161, 2162, 2163, 2164, 2165, 2166, 2167, 2168, 2169, 2170, 2171, 2172, 2173, 2174, 2175, 2176, 2177, 2178, 2179, 2180, 2181, 2182, 2183, 2184, 2185, 2186, 2187, 2188, 2189, 2190, 2191, 2192, 2193, 2194, 2195, 2196, 2197, 2198, 2199, 2200, 2201, 2202, 2203, 2204, 2205, 2206, 2207, 2208, 2209, 2210, 2211, 2212, 2213, 2214, 2215, 2216, 2217, 2218, 2219, 2220, 2221, 2222, 2223, 2224, 2225, 2226, 2227, 2228, 2229, 2230, 2231, 2232, 2233, 2234, 2235, 2236, 2237, 2238, 2239, 2240, 2241, 2242, 2243, 2244, 2245, 2246, 2247, 2248, 2249, 2250, 2251, 2252, 2253, 2254, 2255, 2256, 2257, 2258, 2259, 2260, 2261, 2262, 2263, 2264, 2265, 2266, 2267, 2268, 2269, 2270, 2271, 2272, 2273, 2274, 2275, 2276, 2277, 2278, 2279, 2280, 2281, 2282, 2283, 2284, 2285, 2286, 2287, 2288, 2289, 2290, 2291, 2292, 2293, 2294, 2295, 2296, 2297, 2298, 2299]\n"
          ],
          "name": "stdout"
        }
      ]
    },
    {
      "cell_type": "code",
      "metadata": {
        "colab": {
          "base_uri": "https://localhost:8080/",
          "height": 282
        },
        "id": "-Q_ErOCMCMUp",
        "outputId": "8476f090-eda2-41d4-8946-59c11b444921"
      },
      "source": [
        "import matplotlib.pyplot as plt\n",
        "from skimage.io import imread\n",
        "import numpy as np\n",
        "from PIL import Image\n",
        "import PIL\n",
        "import glob\n",
        "# x = np.array(test_X_[236])\n",
        "# x = np.reshape(x,(112,92))\n",
        "# print(x)\n",
        "# img = Image.fromarray(x)\n",
        "\n",
        "# failure: 70\n",
        "#  [0, 2, 4, 96, 97, 150, 236, 259, 518, 576, 589, 640, 646, 652, 654, 681, 696, 790, 824, 825, 830, 838, 850, 875, 909, 911, 918, 937, 960, 983, 988, 1029, 1048, 1070, 1081, 1088, 1128, 1157, 1200, 1227, 1243, 1256, 1295, 1319, 1346, 1422, 1434, 1448, 1453, 1482, 1487, 1488, 1491, 1502, 1506, 1557, 1564, 1569, 1585, 1591, 1595, 1618, 1626, 1632, 1648, 1657, 1676, 1680, 1683, 1696]\n",
        "# success: 2230\n",
        "#  [1, 3, 5, 6, 7, 8, 9, 10, 11, 12, 13, 14, 15, 16, 17, 18, 19, 20, 21, 22, 23, 24, 25, 26, 27, 28, 29, 30, 31, 32, 33, 34, 35, 36, 37, 38, 39, 40, 41, 42, 43, 44, 45, 46, 47, 48, 49, 50, 51, 52, 53, 54, 55, 56, 57, 58, 59, 60, 61, 62, 63, 64, 65, 66, 67, 68, 69, 70, 71, 72, 73, 74, 75, 76, 77, 78, 79, 80, 81, 82, 83, 84, 85, 86, 87, 88, 89, 90, 91, 92, 93, 94, 95, 98, 99, 100, 101, 102, 103, 104, 105, 106, 107, 108, 109, 110, 111, 112, 113, 114, 115, 116, 117, 118, 119, 120, 121, 122, 123, 124, 125, 126, 127, 128, 129, 130, 131, 132, 133, 134, 135, 136, 137, 138, 139, 140, 141, 142, 143, 144, 145, 146, 147, 148, 149, 151, 152, 153, 154, 155, 156, 157, 158, 159, 160, 161, 162, 163, 164, 165, 166, 167, 168, 169, 170, 171, 172, 173, 174, 175, 176, 177, 178, 179, 180, 181, 182, 183, 184, 185, 186, 187, 188, 189, 190, 191, 192, 193, 194, 195, 196, 197, 198, 199, 200, 201, 202, 203, 204, 205, 206, 207, 208, 209, 210, 211, 212, 213, 214, 215, 216, 217, 218, 219, 220, 221, 222, 223, 224, 225, 226, 227, 228, 229, 230, 231, 232, 233, 234, 235, 237, 238, 239, 240, 241, 242, 243, 244, 245, 246, 247, 248, 249, 250, 251, 252, 253, 254, 255, 256, 257, 258, 260, 261, 262, 263, 264, 265, 266, 267, 268, 269, 270, 271, 272, 273, 274, 275, 276, 277, 278, 279, 280, 281, 282, 283, 284, 285, 286, 287, 288, 289, 290, 291, 292, 293, 294, 295, 296, 297, 298, 299, 300, 301, 302, 303, 304, 305, 306, 307, 308, 309, 310, 311, 312, 313, 314, 315, 316, 317, 318, 319, 320, 321, 322, 323, 324, 325, 326, 327, 328, 329, 330, 331, 332, 333, 334, 335, 336, 337, 338, 339, 340, 341, 342, 343, 344, 345, 346, 347, 348, 349, 350, 351, 352, 353, 354, 355, 356, 357, 358, 359, 360, 361, 362, 363, 364, 365, 366, 367, 368, 369, 370, 371, 372, 373, 374, 375, 376, 377, 378, 379, 380, 381, 382, 383, 384, 385, 386, 387, 388, 389, 390, 391, 392, 393, 394, 395, 396, 397, 398, 399, 400, 401, 402, 403, 404, 405, 406, 407, 408, 409, 410, 411, 412, 413, 414, 415, 416, 417, 418, 419, 420, 421, 422, 423, 424, 425, 426, 427, 428, 429, 430, 431, 432, 433, 434, 435, 436, 437, 438, 439, 440, 441, 442, 443, 444, 445, 446, 447, 448, 449, 450, 451, 452, 453, 454, 455, 456, 457, 458, 459, 460, 461, 462, 463, 464, 465, 466, 467, 468, 469, 470, 471, 472, 473, 474, 475, 476, 477, 478, 479, 480, 481, 482, 483, 484, 485, 486, 487, 488, 489, 490, 491, 492, 493, 494, 495, 496, 497, 498, 499, 500, 501, 502, 503, 504, 505, 506, 507, 508, 509, 510, 511, 512, 513, 514, 515, 516, 517, 519, 520, 521, 522, 523, 524, 525, 526, 527, 528, 529, 530, 531, 532, 533, 534, 535, 536, 537, 538, 539, 540, 541, 542, 543, 544, 545, 546, 547, 548, 549, 550, 551, 552, 553, 554, 555, 556, 557, 558, 559, 560, 561, 562, 563, 564, 565, 566, 567, 568, 569, 570, 571, 572, 573, 574, 575, 577, 578, 579, 580, 581, 582, 583, 584, 585, 586, 587, 588, 590, 591, 592, 593, 594, 595, 596, 597, 598, 599, 600, 601, 602, 603, 604, 605, 606, 607, 608, 609, 610, 611, 612, 613, 614, 615, 616, 617, 618, 619, 620, 621, 622, 623, 624, 625, 626, 627, 628, 629, 630, 631, 632, 633, 634, 635, 636, 637, 638, 639, 641, 642, 643, 644, 645, 647, 648, 649, 650, 651, 653, 655, 656, 657, 658, 659, 660, 661, 662, 663, 664, 665, 666, 667, 668, 669, 670, 671, 672, 673, 674, 675, 676, 677, 678, 679, 680, 682, 683, 684, 685, 686, 687, 688, 689, 690, 691, 692, 693, 694, 695, 697, 698, 699, 700, 701, 702, 703, 704, 705, 706, 707, 708, 709, 710, 711, 712, 713, 714, 715, 716, 717, 718, 719, 720, 721, 722, 723, 724, 725, 726, 727, 728, 729, 730, 731, 732, 733, 734, 735, 736, 737, 738, 739, 740, 741, 742, 743, 744, 745, 746, 747, 748, 749, 750, 751, 752, 753, 754, 755, 756, 757, 758, 759, 760, 761, 762, 763, 764, 765, 766, 767, 768, 769, 770, 771, 772, 773, 774, 775, 776, 777, 778, 779, 780, 781, 782, 783, 784, 785, 786, 787, 788, 789, 791, 792, 793, 794, 795, 796, 797, 798, 799, 800, 801, 802, 803, 804, 805, 806, 807, 808, 809, 810, 811, 812, 813, 814, 815, 816, 817, 818, 819, 820, 821, 822, 823, 826, 827, 828, 829, 831, 832, 833, 834, 835, 836, 837, 839, 840, 841, 842, 843, 844, 845, 846, 847, 848, 849, 851, 852, 853, 854, 855, 856, 857, 858, 859, 860, 861, 862, 863, 864, 865, 866, 867, 868, 869, 870, 871, 872, 873, 874, 876, 877, 878, 879, 880, 881, 882, 883, 884, 885, 886, 887, 888, 889, 890, 891, 892, 893, 894, 895, 896, 897, 898, 899, 900, 901, 902, 903, 904, 905, 906, 907, 908, 910, 912, 913, 914, 915, 916, 917, 919, 920, 921, 922, 923, 924, 925, 926, 927, 928, 929, 930, 931, 932, 933, 934, 935, 936, 938, 939, 940, 941, 942, 943, 944, 945, 946, 947, 948, 949, 950, 951, 952, 953, 954, 955, 956, 957, 958, 959, 961, 962, 963, 964, 965, 966, 967, 968, 969, 970, 971, 972, 973, 974, 975, 976, 977, 978, 979, 980, 981, 982, 984, 985, 986, 987, 989, 990, 991, 992, 993, 994, 995, 996, 997, 998, 999, 1000, 1001, 1002, 1003, 1004, 1005, 1006, 1007, 1008, 1009, 1010, 1011, 1012, 1013, 1014, 1015, 1016, 1017, 1018, 1019, 1020, 1021, 1022, 1023, 1024, 1025, 1026, 1027, 1028, 1030, 1031, 1032, 1033, 1034, 1035, 1036, 1037, 1038, 1039, 1040, 1041, 1042, 1043, 1044, 1045, 1046, 1047, 1049, 1050, 1051, 1052, 1053, 1054, 1055, 1056, 1057, 1058, 1059, 1060, 1061, 1062, 1063, 1064, 1065, 1066, 1067, 1068, 1069, 1071, 1072, 1073, 1074, 1075, 1076, 1077, 1078, 1079, 1080, 1082, 1083, 1084, 1085, 1086, 1087, 1089, 1090, 1091, 1092, 1093, 1094, 1095, 1096, 1097, 1098, 1099, 1100, 1101, 1102, 1103, 1104, 1105, 1106, 1107, 1108, 1109, 1110, 1111, 1112, 1113, 1114, 1115, 1116, 1117, 1118, 1119, 1120, 1121, 1122, 1123, 1124, 1125, 1126, 1127, 1129, 1130, 1131, 1132, 1133, 1134, 1135, 1136, 1137, 1138, 1139, 1140, 1141, 1142, 1143, 1144, 1145, 1146, 1147, 1148, 1149, 1150, 1151, 1152, 1153, 1154, 1155, 1156, 1158, 1159, 1160, 1161, 1162, 1163, 1164, 1165, 1166, 1167, 1168, 1169, 1170, 1171, 1172, 1173, 1174, 1175, 1176, 1177, 1178, 1179, 1180, 1181, 1182, 1183, 1184, 1185, 1186, 1187, 1188, 1189, 1190, 1191, 1192, 1193, 1194, 1195, 1196, 1197, 1198, 1199, 1201, 1202, 1203, 1204, 1205, 1206, 1207, 1208, 1209, 1210, 1211, 1212, 1213, 1214, 1215, 1216, 1217, 1218, 1219, 1220, 1221, 1222, 1223, 1224, 1225, 1226, 1228, 1229, 1230, 1231, 1232, 1233, 1234, 1235, 1236, 1237, 1238, 1239, 1240, 1241, 1242, 1244, 1245, 1246, 1247, 1248, 1249, 1250, 1251, 1252, 1253, 1254, 1255, 1257, 1258, 1259, 1260, 1261, 1262, 1263, 1264, 1265, 1266, 1267, 1268, 1269, 1270, 1271, 1272, 1273, 1274, 1275, 1276, 1277, 1278, 1279, 1280, 1281, 1282, 1283, 1284, 1285, 1286, 1287, 1288, 1289, 1290, 1291, 1292, 1293, 1294, 1296, 1297, 1298, 1299, 1300, 1301, 1302, 1303, 1304, 1305, 1306, 1307, 1308, 1309, 1310, 1311, 1312, 1313, 1314, 1315, 1316, 1317, 1318, 1320, 1321, 1322, 1323, 1324, 1325, 1326, 1327, 1328, 1329, 1330, 1331, 1332, 1333, 1334, 1335, 1336, 1337, 1338, 1339, 1340, 1341, 1342, 1343, 1344, 1345, 1347, 1348, 1349, 1350, 1351, 1352, 1353, 1354, 1355, 1356, 1357, 1358, 1359, 1360, 1361, 1362, 1363, 1364, 1365, 1366, 1367, 1368, 1369, 1370, 1371, 1372, 1373, 1374, 1375, 1376, 1377, 1378, 1379, 1380, 1381, 1382, 1383, 1384, 1385, 1386, 1387, 1388, 1389, 1390, 1391, 1392, 1393, 1394, 1395, 1396, 1397, 1398, 1399, 1400, 1401, 1402, 1403, 1404, 1405, 1406, 1407, 1408, 1409, 1410, 1411, 1412, 1413, 1414, 1415, 1416, 1417, 1418, 1419, 1420, 1421, 1423, 1424, 1425, 1426, 1427, 1428, 1429, 1430, 1431, 1432, 1433, 1435, 1436, 1437, 1438, 1439, 1440, 1441, 1442, 1443, 1444, 1445, 1446, 1447, 1449, 1450, 1451, 1452, 1454, 1455, 1456, 1457, 1458, 1459, 1460, 1461, 1462, 1463, 1464, 1465, 1466, 1467, 1468, 1469, 1470, 1471, 1472, 1473, 1474, 1475, 1476, 1477, 1478, 1479, 1480, 1481, 1483, 1484, 1485, 1486, 1489, 1490, 1492, 1493, 1494, 1495, 1496, 1497, 1498, 1499, 1500, 1501, 1503, 1504, 1505, 1507, 1508, 1509, 1510, 1511, 1512, 1513, 1514, 1515, 1516, 1517, 1518, 1519, 1520, 1521, 1522, 1523, 1524, 1525, 1526, 1527, 1528, 1529, 1530, 1531, 1532, 1533, 1534, 1535, 1536, 1537, 1538, 1539, 1540, 1541, 1542, 1543, 1544, 1545, 1546, 1547, 1548, 1549, 1550, 1551, 1552, 1553, 1554, 1555, 1556, 1558, 1559, 1560, 1561, 1562, 1563, 1565, 1566, 1567, 1568, 1570, 1571, 1572, 1573, 1574, 1575, 1576, 1577, 1578, 1579, 1580, 1581, 1582, 1583, 1584, 1586, 1587, 1588, 1589, 1590, 1592, 1593, 1594, 1596, 1597, 1598, 1599, 1600, 1601, 1602, 1603, 1604, 1605, 1606, 1607, 1608, 1609, 1610, 1611, 1612, 1613, 1614, 1615, 1616, 1617, 1619, 1620, 1621, 1622, 1623, 1624, 1625, 1627, 1628, 1629, 1630, 1631, 1633, 1634, 1635, 1636, 1637, 1638, 1639, 1640, 1641, 1642, 1643, 1644, 1645, 1646, 1647, 1649, 1650, 1651, 1652, 1653, 1654, 1655, 1656, 1658, 1659, 1660, 1661, 1662, 1663, 1664, 1665, 1666, 1667, 1668, 1669, 1670, 1671, 1672, 1673, 1674, 1675, 1677, 1678, 1679, 1681, 1682, 1684, 1685, 1686, 1687, 1688, 1689, 1690, 1691, 1692, 1693, 1694, 1695, 1697, 1698, 1699, 1700, 1701, 1702, 1703, 1704, 1705, 1706, 1707, 1708, 1709, 1710, 1711, 1712, 1713, 1714, 1715, 1716, 1717, 1718, 1719, 1720, 1721, 1722, 1723, 1724, 1725, 1726, 1727, 1728, 1729, 1730, 1731, 1732, 1733, 1734, 1735, 1736, 1737, 1738, 1739, 1740, 1741, 1742, 1743, 1744, 1745, 1746, 1747, 1748, 1749, 1750, 1751, 1752, 1753, 1754, 1755, 1756, 1757, 1758, 1759, 1760, 1761, 1762, 1763, 1764, 1765, 1766, 1767, 1768, 1769, 1770, 1771, 1772, 1773, 1774, 1775, 1776, 1777, 1778, 1779, 1780, 1781, 1782, 1783, 1784, 1785, 1786, 1787, 1788, 1789, 1790, 1791, 1792, 1793, 1794, 1795, 1796, 1797, 1798, 1799, 1800, 1801, 1802, 1803, 1804, 1805, 1806, 1807, 1808, 1809, 1810, 1811, 1812, 1813, 1814, 1815, 1816, 1817, 1818, 1819, 1820, 1821, 1822, 1823, 1824, 1825, 1826, 1827, 1828, 1829, 1830, 1831, 1832, 1833, 1834, 1835, 1836, 1837, 1838, 1839, 1840, 1841, 1842, 1843, 1844, 1845, 1846, 1847, 1848, 1849, 1850, 1851, 1852, 1853, 1854, 1855, 1856, 1857, 1858, 1859, 1860, 1861, 1862, 1863, 1864, 1865, 1866, 1867, 1868, 1869, 1870, 1871, 1872, 1873, 1874, 1875, 1876, 1877, 1878, 1879, 1880, 1881, 1882, 1883, 1884, 1885, 1886, 1887, 1888, 1889, 1890, 1891, 1892, 1893, 1894, 1895, 1896, 1897, 1898, 1899, 1900, 1901, 1902, 1903, 1904, 1905, 1906, 1907, 1908, 1909, 1910, 1911, 1912, 1913, 1914, 1915, 1916, 1917, 1918, 1919, 1920, 1921, 1922, 1923, 1924, 1925, 1926, 1927, 1928, 1929, 1930, 1931, 1932, 1933, 1934, 1935, 1936, 1937, 1938, 1939, 1940, 1941, 1942, 1943, 1944, 1945, 1946, 1947, 1948, 1949, 1950, 1951, 1952, 1953, 1954, 1955, 1956, 1957, 1958, 1959, 1960, 1961, 1962, 1963, 1964, 1965, 1966, 1967, 1968, 1969, 1970, 1971, 1972, 1973, 1974, 1975, 1976, 1977, 1978, 1979, 1980, 1981, 1982, 1983, 1984, 1985, 1986, 1987, 1988, 1989, 1990, 1991, 1992, 1993, 1994, 1995, 1996, 1997, 1998, 1999, 2000, 2001, 2002, 2003, 2004, 2005, 2006, 2007, 2008, 2009, 2010, 2011, 2012, 2013, 2014, 2015, 2016, 2017, 2018, 2019, 2020, 2021, 2022, 2023, 2024, 2025, 2026, 2027, 2028, 2029, 2030, 2031, 2032, 2033, 2034, 2035, 2036, 2037, 2038, 2039, 2040, 2041, 2042, 2043, 2044, 2045, 2046, 2047, 2048, 2049, 2050, 2051, 2052, 2053, 2054, 2055, 2056, 2057, 2058, 2059, 2060, 2061, 2062, 2063, 2064, 2065, 2066, 2067, 2068, 2069, 2070, 2071, 2072, 2073, 2074, 2075, 2076, 2077, 2078, 2079, 2080, 2081, 2082, 2083, 2084, 2085, 2086, 2087, 2088, 2089, 2090, 2091, 2092, 2093, 2094, 2095, 2096, 2097, 2098, 2099, 2100, 2101, 2102, 2103, 2104, 2105, 2106, 2107, 2108, 2109, 2110, 2111, 2112, 2113, 2114, 2115, 2116, 2117, 2118, 2119, 2120, 2121, 2122, 2123, 2124, 2125, 2126, 2127, 2128, 2129, 2130, 2131, 2132, 2133, 2134, 2135, 2136, 2137, 2138, 2139, 2140, 2141, 2142, 2143, 2144, 2145, 2146, 2147, 2148, 2149, 2150, 2151, 2152, 2153, 2154, 2155, 2156, 2157, 2158, 2159, 2160, 2161, 2162, 2163, 2164, 2165, 2166, 2167, 2168, 2169, 2170, 2171, 2172, 2173, 2174, 2175, 2176, 2177, 2178, 2179, 2180, 2181, 2182, 2183, 2184, 2185, 2186, 2187, 2188, 2189, 2190, 2191, 2192, 2193, 2194, 2195, 2196, 2197, 2198, 2199, 2200, 2201, 2202, 2203, 2204, 2205, 2206, 2207, 2208, 2209, 2210, 2211, 2212, 2213, 2214, 2215, 2216, 2217, 2218, 2219, 2220, 2221, 2222, 2223, 2224, 2225, 2226, 2227, 2228, 2229, 2230, 2231, 2232, 2233, 2234, 2235, 2236, 2237, 2238, 2239, 2240, 2241, 2242, 2243, 2244, 2245, 2246, 2247, 2248, 2249, 2250, 2251, 2252, 2253, 2254, 2255, 2256, 2257, 2258, 2259, 2260, 2261, 2262, 2263, 2264, 2265, 2266, 2267, 2268, 2269, 2270, 2271, 2272, 2273, 2274, 2275, 2276, 2277, 2278, 2279, 2280, 2281, 2282, 2283, 2284, 2285, 2286, 2287, 2288, 2289, 2290, 2291, 2292, 2293, 2294, 2295, 2296, 2297, 2298, 2299]\n",
        "\n",
        "fig = plt.figure(figsize =(15,5))\n",
        "rows = 2\n",
        "cols = 10\n",
        "img_no = 1 \n",
        "for i in range(0,5):\n",
        "  fig.add_subplot(rows,cols,img_no)\n",
        "  img_no += 1\n",
        "  x = np.array(test_X_[failure[i]])\n",
        "  x = np.reshape(x,(112,92))\n",
        "  img = Image.fromarray(x)\n",
        "  plt.imshow(img, cmap = 'gray')\n",
        "  plt.axis('off')\n",
        "  plt.title('face' if (predicted_labels[failure[i]] == 1) else 'no face')\n",
        "\n",
        "for i in range(10,60,10):\n",
        "  fig.add_subplot(rows,cols,img_no)\n",
        "  img_no += 1\n",
        "  x = np.array(test_X_[failure[i]])\n",
        "  x = np.reshape(x,(112,92))\n",
        "  img = Image.fromarray(x)\n",
        "  plt.imshow(img, cmap = 'gray')\n",
        "  plt.axis('off')\n",
        "  plt.title('face' if (predicted_labels[failure[i]] == 1) else 'no face')\n",
        "\n",
        "\n",
        "for i in range(0,2000,200):\n",
        "  fig.add_subplot(rows,cols,img_no)\n",
        "  img_no += 1\n",
        "  x = np.array(test_X_[success[i]])\n",
        "  x = np.reshape(x,(112,92))\n",
        "  img = Image.fromarray(x)\n",
        "  plt.imshow(img,cmap = 'gray')\n",
        "  plt.axis('off')\n",
        "  plt.title('face' if (predicted_labels[success[i]] == 1) else 'no face')\n",
        "# plt.imshow(img,cmap='gray')"
      ],
      "execution_count": null,
      "outputs": [
        {
          "output_type": "display_data",
          "data": {
            "image/png": "[encoded data removed]",
            "text/plain": [
              "<Figure size 1080x360 with 20 Axes>"
            ]
          },
          "metadata": {
            "tags": [],
            "needs_background": "light"
          }
        }
      ]
    },
    {
      "cell_type": "code",
      "metadata": {
        "colab": {
          "base_uri": "https://localhost:8080/",
          "height": 282
        },
        "id": "KmujNtZyHisk",
        "outputId": "6b715a5f-ffe8-4b67-8938-577975ccc018"
      },
      "source": [
        "import matplotlib.pyplot as plt\n",
        "Accuracy = [0.9484536082474226, 0.928, 0.9345454545454546, 0.9511111111111111, 0.956, 0.956875, 0.9656410256410256, 0.9695652173913043]\n",
        "num_of_nonface = [182,350,700,1400,2100,2800,3500,4200]\n",
        "\n",
        "# Accuracy = [0.988, 0.9728571428571429]\n",
        "# Amounts =[100, 1000]\n",
        "# Accuracy =[0.988, 0.9833333333333333, 0.9875, 0.992, 0.9728571428571429, 0.9473684210526315, 0.9516666666666667, 0.9551724137931035, 0.9529411764705882, 0.961025641025641, 0.9695652173913043]\n",
        "Amounts = [100, 200, 400, 600, 1000, 1500, 2000, 2500, 3000, 3500, 4200]\n",
        "plt.plot(Amounts, Accuracy)"
      ],
      "execution_count": null,
      "outputs": [
        {
          "output_type": "execute_result",
          "data": {
            "text/plain": [
              "[<matplotlib.lines.Line2D at 0x7f448c32ad90>]"
            ]
          },
          "metadata": {
            "tags": []
          },
          "execution_count": 66
        },
        {
          "output_type": "display_data",
          "data": {
            "image/png": "[encoded data removed]",
            "text/plain": [
              "<Figure size 432x288 with 1 Axes>"
            ]
          },
          "metadata": {
            "tags": [],
            "needs_background": "light"
          }
        }
      ]
    },
    {
      "cell_type": "code",
      "metadata": {
        "colab": {
          "base_uri": "https://localhost:8080/"
        },
        "id": "w6YzT5PnwEAA",
        "outputId": "97d82560-a600-46cc-f35d-e35f78eaddf5"
      },
      "source": [
        "D_ = []\n",
        "for class_number in range(2):\n",
        "    current_class = []\n",
        "    for img in range(200):\n",
        "        current_class.append(train_X_[class_number*200 + img])\n",
        "    D_.append(current_class)\n",
        "print('D', np.shape(D_))"
      ],
      "execution_count": null,
      "outputs": [
        {
          "output_type": "stream",
          "text": [
            "D (400, 10304)\n"
          ],
          "name": "stdout"
        }
      ]
    },
    {
      "cell_type": "code",
      "metadata": {
        "colab": {
          "base_uri": "https://localhost:8080/"
        },
        "id": "slXsDjezw63t",
        "outputId": "f6c07a49-313e-463e-c42b-b7a7c986ae84"
      },
      "source": [
        "means_ = []\n",
        "for current_class in D_:\n",
        "    means_.append(np.mean(current_class, axis=0))\n",
        "print('Means', np.shape(means_))\n",
        "overall_mean_ = np.array([np.mean(train_X_, axis=0)])\n",
        "print('Overall mean', np.shape(overall_mean_))"
      ],
      "execution_count": null,
      "outputs": [
        {
          "output_type": "stream",
          "text": [
            "Means (2, 10304)\n",
            "Overall mean (1, 10304)\n"
          ],
          "name": "stdout"
        }
      ]
    },
    {
      "cell_type": "code",
      "metadata": {
        "colab": {
          "base_uri": "https://localhost:8080/"
        },
        "id": "d_FjrB5KxYrE",
        "outputId": "59b2e10a-7a43-4486-8da6-fae2d63eccaa"
      },
      "source": [
        "sub = np.subtract(means_[:1] , means_[1:2])\n",
        "B = np.dot(sub.T, sub)\n",
        "print(B)\n",
        "print(np.shape(B))"
      ],
      "execution_count": null,
      "outputs": [
        {
          "output_type": "stream",
          "text": [
            "[[6747.801025 6615.9583   6532.581125 ... 6739.1758   6702.621275\n",
            "  6751.908275]\n",
            " [6615.9583   6486.6916   6404.9435   ... 6607.5016   6571.6613\n",
            "  6619.9853  ]\n",
            " [6532.581125 6404.9435   6324.225625 ... 6524.231    6488.842375\n",
            "  6536.557375]\n",
            " ...\n",
            " [6739.1758   6607.5016   6524.231    ... 6730.5616   6694.0538\n",
            "  6743.2778  ]\n",
            " [6702.621275 6571.6613   6488.842375 ... 6694.0538   6657.744025\n",
            "  6706.701025]\n",
            " [6751.908275 6619.9853   6536.557375 ... 6743.2778   6706.701025\n",
            "  6756.018025]]\n",
            "(10304, 10304)\n"
          ],
          "name": "stdout"
        }
      ]
    },
    {
      "cell_type": "code",
      "metadata": {
        "colab": {
          "base_uri": "https://localhost:8080/"
        },
        "id": "-95VuWgg1Oo7",
        "outputId": "a0c0625a-d12e-4065-b06e-fce2e93b8bba"
      },
      "source": [
        "Z_ = []\n",
        "for mu, Di in zip(means_, D_):\n",
        "    current_z = Di - np.ones((200,1))*mu\n",
        "    Z_.append(current_z)\n",
        "Z_ = np.array(Z_)\n",
        "print('Z', np.shape(Z_))"
      ],
      "execution_count": null,
      "outputs": [
        {
          "output_type": "stream",
          "text": [
            "Z (2, 200, 10304)\n"
          ],
          "name": "stdout"
        }
      ]
    },
    {
      "cell_type": "code",
      "metadata": {
        "colab": {
          "base_uri": "https://localhost:8080/"
        },
        "id": "O_IMGGH21mEp",
        "outputId": "ccb61fec-04e1-4eb0-a273-12dea3db7c47"
      },
      "source": [
        "S_ = np.zeros((10304,10304))\n",
        "for z in Z_:\n",
        "    S_ += np.dot(z.T, z)\n",
        "print('S', np.shape(S_))"
      ],
      "execution_count": null,
      "outputs": [
        {
          "output_type": "stream",
          "text": [
            "S (10304, 10304)\n"
          ],
          "name": "stdout"
        }
      ]
    },
    {
      "cell_type": "code",
      "metadata": {
        "colab": {
          "base_uri": "https://localhost:8080/"
        },
        "id": "1JBgnmxR16Zj",
        "outputId": "2807e469-79a2-4061-8dc5-833f318bcedb"
      },
      "source": [
        "S_inv_ = np.linalg.inv(S_)\n",
        "print('S_inv', np.shape(S_inv_))\n",
        "A_ = np.dot(S_inv_, B)\n",
        "print('A', np.shape(A_))"
      ],
      "execution_count": null,
      "outputs": [
        {
          "output_type": "stream",
          "text": [
            "S_inv (10304, 10304)\n",
            "A (10304, 10304)\n"
          ],
          "name": "stdout"
        }
      ]
    },
    {
      "cell_type": "code",
      "metadata": {
        "colab": {
          "base_uri": "https://localhost:8080/"
        },
        "id": "8cD2gF8R2MAE",
        "outputId": "cd72c400-1846-4ef9-cf97-1ee3decb31d7"
      },
      "source": [
        "eigen_values_, eigen_vectors_ = np.linalg.eigh(A_)\n",
        "print('Eigen values', np.shape(eigen_values_))\n",
        "print('Eigen vectors', np.shape(eigen_vectors_))"
      ],
      "execution_count": null,
      "outputs": [
        {
          "output_type": "stream",
          "text": [
            "Eigen values (10304,)\n",
            "Eigen vectors (10304, 10304)\n"
          ],
          "name": "stdout"
        }
      ]
    },
    {
      "cell_type": "code",
      "metadata": {
        "colab": {
          "base_uri": "https://localhost:8080/"
        },
        "id": "54w2wURX2prt",
        "outputId": "e247df03-86ef-44f1-d33a-d0547dcf1b62"
      },
      "source": [
        "# eigen_vectors_ = eigen_vectors_.T\n",
        "for i in range(len(eigen_values_)):\n",
        "  eigen_values_[i] = abs(eigen_values_[i])\n",
        "\n",
        "idx_ = np.argsort(eigen_values_)[::-1]\n",
        "eigen_values_ = eigen_values_[idx_]\n",
        "eigen_vectors_ = eigen_vectors_[:,idx_]\n",
        "eig_sum = sum(eigen_values_)\n",
        "cur_sum = 0\n",
        "dominant_count = 0\n",
        "while cur_sum <= 0.8:\n",
        "  cur_sum += (eigen_values_[dominant_count]/ eig_sum)\n",
        "  dominant_count += 1\n",
        "dominant_count -= 1\n",
        "print(eigen_values_)\n",
        "print(cur_sum )\n",
        "print(eig_sum)"
      ],
      "execution_count": null,
      "outputs": [
        {
          "output_type": "stream",
          "text": [
            "[7.01850318e+16 7.00919178e+16 1.71850520e+16 ... 2.45170067e+08\n",
            " 2.15323735e+08 2.91031767e+07]\n",
            "0.8001074468320546\n",
            "5.3941276790860806e+17\n"
          ],
          "name": "stdout"
        }
      ]
    },
    {
      "cell_type": "code",
      "metadata": {
        "colab": {
          "base_uri": "https://localhost:8080/"
        },
        "id": "ncwCUm4D3csV",
        "outputId": "c30bb9b7-22df-472f-c860-fbd7723c4f5a"
      },
      "source": [
        "print(eigen_values_)\n",
        "dominant_eigen_vectors_ = eigen_vectors_.T[:dominant_count,:] \n",
        "print('Dominant eigen vectors', np.shape(dominant_eigen_vectors_))"
      ],
      "execution_count": null,
      "outputs": [
        {
          "output_type": "stream",
          "text": [
            "[7.01850318e+16 7.00919178e+16 1.71850520e+16 ... 2.45170067e+08\n",
            " 2.15323735e+08 2.91031767e+07]\n",
            "Dominant eigen vectors (425, 10304)\n"
          ],
          "name": "stdout"
        }
      ]
    },
    {
      "cell_type": "code",
      "metadata": {
        "colab": {
          "base_uri": "https://localhost:8080/"
        },
        "id": "aPwroizm_Rtn",
        "outputId": "fd5d8800-1407-4887-d344-b21c1094d8e0"
      },
      "source": [
        "from sklearn.neighbors import KNeighborsClassifier\n",
        "from sklearn.metrics import accuracy_score\n",
        "\n",
        " \n",
        "neighbors=np.array([1])\n",
        "accuracy=[]\n",
        "projected_train=np.dot(train_X_,dominant_eigen_vectors_.T)\n",
        "projected_test=np.dot(test_X_,dominant_eigen_vectors_.T)\n",
        "for neighbor_num in neighbors: \n",
        "  print(f'neighbors = {neighbor_num}')\n",
        "  neigh = KNeighborsClassifier(n_neighbors=neighbor_num)\n",
        "  neigh.fit(projected_train,train_y_)\n",
        "  accuracy.append(neigh.score(projected_test,test_y_))\n",
        "  predicted_labels = neigh.predict(projected_test)\n",
        "  print(neigh.score(projected_test,test_y_),'\\n\\n')\n",
        "    # testing_label = classifier.predict(projected_test)\n",
        "    # print('testing label: ', testing_label)\n",
        "\n",
        "print('projected_test', np.shape(projected_test))\n",
        "print('predicted_labels',np.shape(predicted_labels))\n",
        "print(predicted_labels)\n",
        "print('test_y_',np.shape(test_y_))\n",
        "print(test_y_)\n",
        "print('Accuracy', accuracy)"
      ],
      "execution_count": null,
      "outputs": [
        {
          "output_type": "stream",
          "text": [
            "neighbors = 1\n",
            "0.9125 \n",
            "\n",
            "\n",
            "neighbors = 3\n",
            "0.895 \n",
            "\n",
            "\n",
            "neighbors = 5\n",
            "0.8725 \n",
            "\n",
            "\n",
            "neighbors = 7\n",
            "0.8725 \n",
            "\n",
            "\n",
            "Accuracy [0.9125, 0.895, 0.8725, 0.8725]\n"
          ],
          "name": "stdout"
        }
      ]
    },
    {
      "cell_type": "markdown",
      "metadata": {
        "id": "Gs6NXX2nTY3Q"
      },
      "source": [
        "# Bonus"
      ]
    },
    {
      "cell_type": "code",
      "metadata": {
        "colab": {
          "base_uri": "https://localhost:8080/"
        },
        "id": "FrzwHUWsTIhP",
        "outputId": "0a61405c-f568-4858-a0b6-b1f903a12aad"
      },
      "source": [
        "#splitting the data 70% 30%\n",
        "i=0\n",
        "j=7\n",
        "end=10\n",
        "tens = 0\n",
        "trainX = []\n",
        "testX = []\n",
        "trainY = []\n",
        "testY = []\n",
        "for tens in range(40):\n",
        "  while i<j:\n",
        "    trainX.append(Dataset[i])\n",
        "    trainY.append(y[i])\n",
        "    i+=1\n",
        "  while j<end:\n",
        "    testX.append(Dataset[j])\n",
        "    testY.append(y[j])\n",
        "    j+=1\n",
        "  i+=3\n",
        "  j+=7\n",
        "  end+=10\n",
        "trainX = np.array(trainX)\n",
        "testX = np.array(testX)\n",
        "trainY = np.array(trainY)\n",
        "testY = np.array(testY)\n",
        "print(np.shape(trainY))\n",
        "print(np.shape(testY))\n",
        "print(np.shape(testX))\n",
        "print(np.shape(trainX))"
      ],
      "execution_count": null,
      "outputs": [
        {
          "output_type": "stream",
          "text": [
            "(280,)\n",
            "(120,)\n",
            "(120, 10304)\n",
            "(280, 10304)\n"
          ],
          "name": "stdout"
        }
      ]
    },
    {
      "cell_type": "code",
      "metadata": {
        "colab": {
          "background_save": true,
          "base_uri": "https://localhost:8080/"
        },
        "id": "T_khg4K5bUo_",
        "outputId": "117f7b11-e678-48bf-a2be-e8a6ac99a20c"
      },
      "source": [
        "#recalling PCA\n",
        "means=np.mean(trainX,axis=0)\n",
        "print(means)\n",
        "cov=np.cov(trainX.T)\n",
        "eigenVal,eigenVec=np.linalg.eigh(cov.T)\n"
      ],
      "execution_count": null,
      "outputs": [
        {
          "output_type": "stream",
          "text": [
            "[85.41071429 85.33928571 85.65357143 ... 74.75714286 74.16785714\n",
            " 73.35714286]\n"
          ],
          "name": "stdout"
        }
      ]
    },
    {
      "cell_type": "code",
      "metadata": {
        "colab": {
          "base_uri": "https://localhost:8080/"
        },
        "id": "1aaneLcjWjIF",
        "outputId": "4d78f259-cf32-4c97-8076-4c4b659db150"
      },
      "source": [
        "#sort eigenValues and eigenvector from higher to lower\n",
        "idx = eigenVal.argsort()[::-1]\n",
        "eigenVal = eigenVal[idx]\n",
        "eigenVec = eigenVec[:,idx]\n",
        "print(eigenVal)\n"
      ],
      "execution_count": null,
      "outputs": [
        {
          "output_type": "stream",
          "text": [
            "[ 2.93703612e+06  2.04152935e+06  1.13584912e+06 ... -1.24575220e-09\n",
            " -1.60131921e-09 -1.75577523e-09]\n"
          ],
          "name": "stdout"
        }
      ]
    },
    {
      "cell_type": "code",
      "metadata": {
        "colab": {
          "base_uri": "https://localhost:8080/"
        },
        "id": "Qgv_CEu3Xctt",
        "outputId": "30471655-f605-4f12-c4f5-2ef06d11846e"
      },
      "source": [
        "#calcaluting r for each alpha \n",
        "alpha_arr=np.array([0.8,0.85,0.9,0.95])\n",
        "r_peralpha=[]\n",
        "for alpha in alpha_arr:\n",
        "  r=0\n",
        "  while(np.sum(eigenVal[0:r])/np.sum(eigenVal)-alpha<=1e-6):\n",
        "    r+=1\n",
        "  r_peralpha.append(r)\n",
        "print(r_peralpha)"
      ],
      "execution_count": null,
      "outputs": [
        {
          "output_type": "stream",
          "text": [
            "[39, 57, 89, 145]\n"
          ],
          "name": "stdout"
        }
      ]
    },
    {
      "cell_type": "code",
      "metadata": {
        "colab": {
          "base_uri": "https://localhost:8080/"
        },
        "id": "73IX0wXfYF-c",
        "outputId": "7be11db6-78e9-4282-a9b9-efee42d3dcab"
      },
      "source": [
        "#calculating projected data for each alpha\n",
        "from sklearn.neighbors import KNeighborsClassifier\n",
        "accuracy=[]\n",
        "neighbors=np.array([1])\n",
        "for r in r_peralpha:\n",
        "  projected_train=np.dot(trainX,eigenVec[:,0:r])\n",
        "  projected_test=np.dot(testX,eigenVec[:,0:r])\n",
        "  print()\n",
        "  for neighbor_num in neighbors: \n",
        "    neigh = KNeighborsClassifier(n_neighbors=neighbor_num,weights = 'distance')\n",
        "    neigh.fit(projected_train,trainY)\n",
        "    accuracy.append(neigh.score(projected_test,testY))\n",
        " \n",
        "print(accuracy)"
      ],
      "execution_count": null,
      "outputs": [
        {
          "output_type": "stream",
          "text": [
            "\n",
            "\n",
            "\n",
            "\n",
            "[0.9583333333333334, 0.9666666666666667, 0.9666666666666667, 0.95]\n"
          ],
          "name": "stdout"
        }
      ]
    },
    {
      "cell_type": "code",
      "metadata": {
        "colab": {
          "base_uri": "https://localhost:8080/"
        },
        "id": "4eJ4j6Ye--yZ",
        "outputId": "3253a790-b2ac-4ba2-ce5e-a583d5abddaf"
      },
      "source": [
        "#recalling LDA\n",
        "D = []\n",
        "for class_number in range(40):\n",
        "    current_class = []\n",
        "    for img in range(5):\n",
        "        current_class.append(trainX[class_number*5 + img])\n",
        "    D.append(current_class)\n",
        "print('D', np.shape(D))"
      ],
      "execution_count": null,
      "outputs": [
        {
          "output_type": "stream",
          "text": [
            "D (40, 5, 10304)\n"
          ],
          "name": "stdout"
        }
      ]
    },
    {
      "cell_type": "code",
      "metadata": {
        "colab": {
          "base_uri": "https://localhost:8080/"
        },
        "id": "wG1vvU-D_aBs",
        "outputId": "bc84c57c-f247-4248-9ef5-9ada37ffeb8f"
      },
      "source": [
        "means = []\n",
        "for current_class in D:\n",
        "    means.append(np.mean(current_class, axis=0))\n",
        "print('Means', np.shape(means))\n",
        "overall_mean = np.array([np.mean(trainX, axis=0)])\n",
        "print('Overall mean', np.shape(overall_mean))"
      ],
      "execution_count": null,
      "outputs": [
        {
          "output_type": "stream",
          "text": [
            "Means (40, 10304)\n",
            "Overall mean (1, 10304)\n"
          ],
          "name": "stdout"
        }
      ]
    },
    {
      "cell_type": "code",
      "metadata": {
        "colab": {
          "base_uri": "https://localhost:8080/"
        },
        "id": "MGdwm8DE_izq",
        "outputId": "4724b223-3585-450e-ea58-47ffb38c5889"
      },
      "source": [
        "nk = 7\n",
        "Sb = np.zeros((10304, 10304))\n",
        "for mu in means:\n",
        "    sub = mu - overall_mean\n",
        "    Sb += nk*(np.dot(sub.T, sub))\n",
        "print('Sb', np.shape(Sb))"
      ],
      "execution_count": null,
      "outputs": [
        {
          "output_type": "stream",
          "text": [
            "Sb (10304, 10304)\n"
          ],
          "name": "stdout"
        }
      ]
    },
    {
      "cell_type": "code",
      "metadata": {
        "colab": {
          "base_uri": "https://localhost:8080/"
        },
        "id": "E68jG8On_4ON",
        "outputId": "76102ad3-3ddd-4af0-fe11-764cca23d703"
      },
      "source": [
        "Z = []\n",
        "for mu, Di in zip(means, D):\n",
        "    current_z = Di - np.ones((5,1))*mu\n",
        "    Z.append(current_z)\n",
        "Z = np.array(Z)\n",
        "print('Z', np.shape(Z))"
      ],
      "execution_count": null,
      "outputs": [
        {
          "output_type": "stream",
          "text": [
            "Z (40, 5, 10304)\n"
          ],
          "name": "stdout"
        }
      ]
    },
    {
      "cell_type": "code",
      "metadata": {
        "colab": {
          "base_uri": "https://localhost:8080/"
        },
        "id": "3eZ8-e3BBstP",
        "outputId": "1d9de957-daea-43de-c3b4-3d71756d2a0b"
      },
      "source": [
        "S = np.zeros((10304,10304))\n",
        "for z in Z:\n",
        "    S += np.dot(z.T, z)\n",
        "print('S', np.shape(S))"
      ],
      "execution_count": null,
      "outputs": [
        {
          "output_type": "stream",
          "text": [
            "S (10304, 10304)\n"
          ],
          "name": "stdout"
        }
      ]
    },
    {
      "cell_type": "code",
      "metadata": {
        "colab": {
          "base_uri": "https://localhost:8080/"
        },
        "id": "KQcYpzniBxm4",
        "outputId": "303d9d48-fabd-4f70-e35c-0f687a1bf1c5"
      },
      "source": [
        "S_inv = np.linalg.inv(S)\n",
        "print('S_inv', np.shape(S_inv))\n",
        "A = np.dot(S_inv, Sb)\n",
        "print('A', np.shape(A))"
      ],
      "execution_count": null,
      "outputs": [
        {
          "output_type": "stream",
          "text": [
            "S_inv (10304, 10304)\n",
            "A (10304, 10304)\n"
          ],
          "name": "stdout"
        }
      ]
    },
    {
      "cell_type": "code",
      "metadata": {
        "id": "-AsWZRnXCAPo"
      },
      "source": [
        "eigen_values, eigen_vectors = np.linalg.eigh(A)\n",
        "print('Eigen values', np.shape(eigen_values))\n",
        "print('Eigen vectors', np.shape(eigen_vectors))"
      ],
      "execution_count": null,
      "outputs": []
    },
    {
      "cell_type": "code",
      "metadata": {
        "id": "EyjNoK6JCMNp"
      },
      "source": [
        "# eigen_vectors = eigen_vectors.T\n",
        "idx = np.argsort(eigen_values)[::-1]\n",
        "eigen_values = eigen_values[idx]\n",
        "eigen_vectors = eigen_vectors[:,idx]"
      ],
      "execution_count": null,
      "outputs": []
    },
    {
      "cell_type": "code",
      "metadata": {
        "colab": {
          "base_uri": "https://localhost:8080/"
        },
        "id": "Tn56mI7ECVYT",
        "outputId": "fa12ba3f-ee84-4e1d-d406-934ac266e6b6"
      },
      "source": [
        "dominant_eigen_vectors = eigen_vectors.T[:39,:] \n",
        "print('Dominant eigen vectors', np.shape(dominant_eigen_vectors))"
      ],
      "execution_count": null,
      "outputs": [
        {
          "output_type": "stream",
          "text": [
            "Dominant eigen vectors (39, 10304)\n"
          ],
          "name": "stdout"
        }
      ]
    },
    {
      "cell_type": "code",
      "metadata": {
        "colab": {
          "base_uri": "https://localhost:8080/"
        },
        "id": "F36FoXHDCcdP",
        "outputId": "e82a3c8f-a260-43cc-8887-6f79b44f258a"
      },
      "source": [
        "from sklearn.neighbors import KNeighborsClassifier\n",
        "from sklearn.metrics import accuracy_score\n",
        "\n",
        " \n",
        "neighbors=np.array([1,3,5,7])\n",
        "accuracy=[]\n",
        "projected_train=np.dot(trainX,dominant_eigen_vectors.T)\n",
        "projected_test=np.dot(testX,dominant_eigen_vectors.T)\n",
        "for neighbor_num in neighbors: \n",
        "    print(f'neighbors = {neighbor_num}')\n",
        "    neigh = KNeighborsClassifier(n_neighbors=neighbor_num)\n",
        "    neigh.fit(projected_train,trainY)\n",
        "    accuracy.append(neigh.score(projected_test,testY))\n",
        "    print(neigh.score(projected_test,testY),'\\n\\n')\n",
        "    # testing_label = classifier.predict(projected_test)\n",
        "    # print('testing label: ', testing_label)\n",
        "print('Accuracy', accuracy)"
      ],
      "execution_count": null,
      "outputs": [
        {
          "output_type": "stream",
          "text": [
            "neighbors = 1\n",
            "0.95 \n",
            "\n",
            "\n",
            "neighbors = 3\n",
            "0.9166666666666666 \n",
            "\n",
            "\n",
            "neighbors = 5\n",
            "0.8583333333333333 \n",
            "\n",
            "\n",
            "neighbors = 7\n",
            "0.8083333333333333 \n",
            "\n",
            "\n",
            "Accuracy [0.95, 0.9166666666666666, 0.8583333333333333, 0.8083333333333333]\n"
          ],
          "name": "stdout"
        }
      ]
    }
  ]
}